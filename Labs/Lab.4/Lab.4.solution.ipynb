{
  "metadata": {
    "kernelspec": {
      "name": "python",
      "display_name": "Python (Pyodide)",
      "language": "python"
    },
    "language_info": {
      "codemirror_mode": {
        "name": "python",
        "version": 3
      },
      "file_extension": ".py",
      "mimetype": "text/x-python",
      "name": "python",
      "nbconvert_exporter": "python",
      "pygments_lexer": "ipython3",
      "version": "3.8"
    }
  },
  "nbformat_minor": 4,
  "nbformat": 4,
  "cells": [
    {
      "cell_type": "markdown",
      "source": "# Lab 4- Object Oriented Programming\n\nFor all of the exercises below, make sure you provide tests of your solutions.\n",
      "metadata": {}
    },
    {
      "cell_type": "markdown",
      "source": "1. Write a \"counter\" class that can be incremented up to a specified maximum value, will print an error if an attempt is made to increment beyond that value, and allows reseting the counter. ",
      "metadata": {}
    },
    {
      "cell_type": "code",
      "source": "class counter:\n    def __init__(self, max_value):\n        self.max_value = max_value\n        self.count = 0\n\n    def increment(self):\n        if self.count < self.max_value:\n            self.count += 1\n        else:\n            print(\"Error: Maximum value has been reached.\")\n\n    def reset(self):\n        self.count = 0\n\n    def get_value(self):\n        return self.count\n\n# Example usage:\ntest = counter(3)\ntest.increment()\ntest.increment()\ntest.increment()\ntest.increment()\ntest.reset()\nprint(test.get_value())",
      "metadata": {
        "trusted": true
      },
      "outputs": [
        {
          "name": "stdout",
          "text": "Error: Maximum value has been reached.\n0\n",
          "output_type": "stream"
        }
      ],
      "execution_count": 1
    },
    {
      "cell_type": "markdown",
      "source": "2. Copy and paste your solution to question 1 and modify it so that all the data held by the counter is private. Implement functions to check the value of the counter, check the maximum value, and check if the counter is at the maximum.",
      "metadata": {}
    },
    {
      "cell_type": "code",
      "source": "class counter:\n    def __init__(self, max_value):\n        self.max_value = max_value\n        self.count = 0\n\n    def increment(self):\n        if self.count < self.max_value:\n            self.count += 1\n        else:\n            print(\"Error: Maximum value has been reached.\")\n\n    def reset(self):\n        self.count = 0\n\n    def check_value(self):\n        return self.count\n\n    def check_max_value(self):\n        return self.max_value\n\n    def is_at_max(self):\n        return self.count == self.max_value\n\n# Example usage:\ntest = counter(3)\ntest.increment()\ntest.increment()\ntest.increment()\ntest.increment()\nprint(\"Current value of counter:\",test.check_value())\nprint(\"The maximum value:\",test.check_max_value())\nprint(\"The current value equals the max value:\",test.is_at_max())\ntest.reset()\nprint(\"Current value of counter:\",test.check_value())\nprint(\"The current value equals the max value:\",test.is_at_max())",
      "metadata": {
        "trusted": true
      },
      "outputs": [
        {
          "name": "stdout",
          "text": "Error: Maximum value has been reached.\nCurrent value of counter: 3\nThe maximum value: 3\nThe current value equals the max value: True\nCurrent value of counter: 0\nThe current value equals the max value: False\n",
          "output_type": "stream"
        }
      ],
      "execution_count": 2
    },
    {
      "cell_type": "markdown",
      "source": "3. Implement a class to represent a rectangle, holding the length, width, and $x$ and $y$ coordinates of a corner of the object. Implement functions that compute the area and perimeter of the rectangle. Make all data members private and privide accessors to retrieve values of data members. ",
      "metadata": {}
    },
    {
      "cell_type": "code",
      "source": "class Rectangle:\n    def __init__(self, length, width, x, y):\n        \"\"\"\n        Initializes the rectangle with a specified length, width, and coordinates of a corner (x, y).\n        \"\"\"\n        self.__length = length\n        self.__width = width \n        self.__x = x  \n        self.__y = y \n\n    def compute_area(self):\n        return self.__length * self.__width\n\n    def compute_perimeter(self):\n        return 2 * (self.__length + self.__width)\n\n    def get_length(self):\n        return self.__length\n\n    def get_width(self):\n        return self.__width\n\n    def get_x(self):\n        return self.__x\n\n    def get_y(self):\n        return self.__y\n\n# Example usage:\nrect = Rectangle(10, 5, 0, 0)\n\nprint(f\"Area: {rect.compute_area()}\")        # Area = 50\nprint(f\"Perimeter: {rect.compute_perimeter()}\")  # Perimeter = 30\n\nprint(f\"Length: {rect.get_length()}\")  \nprint(f\"Width: {rect.get_width()}\")    \nprint(f\"x-coordinate: {rect.get_x()}\") \nprint(f\"y-coordinate: {rect.get_y()}\") ",
      "metadata": {
        "trusted": true
      },
      "outputs": [
        {
          "name": "stdout",
          "text": "Area: 50\nPerimeter: 30\nLength: 10\nWidth: 5\nx-coordinate: 0\ny-coordinate: 0\n",
          "output_type": "stream"
        }
      ],
      "execution_count": 3
    },
    {
      "cell_type": "markdown",
      "source": "4. Implement a class to represent a circle, holding the radius and $x$ and $y$ coordinates of center of the object. Implement functions that compute the area and perimeter of the rectangle. Make all data members private and privide accessors to retrieve values of data members. ",
      "metadata": {}
    },
    {
      "cell_type": "code",
      "source": "import math\n\nclass Circle:\n    def __init__(self, radius, x, y):\n        \"\"\"\n        Initializes the circle with a specified radius and coordinates of the center (x, y).\n        \"\"\"\n        self.__radius = radius  \n        self.__x = x \n        self.__y = y \n\n    def compute_area(self):\n        return math.pi * (self.__radius ** 2)\n\n    def compute_perimeter(self):\n        return 2 * math.pi * self.__radius\n\n    def get_radius(self):\n        return self.__radius\n\n    def get_x(self):\n        return self.__x\n\n    def get_y(self):\n        return self.__y\n\n# Example usage:\ncircle = Circle(7, 0, 0)\n\nprint(f\"Area: {circle.compute_area():.2f}\")        # Area = (roughly) 153.94\nprint(f\"Circumference: {circle.compute_perimeter():.2f}\")  # Circumference = (roughly) 43.98\n\nprint(f\"Radius: {circle.get_radius()}\")  # r = 7\nprint(f\"x-coordinate: {circle.get_x()}\") \nprint(f\"y-coordinate: {circle.get_y()}\") ",
      "metadata": {
        "trusted": true
      },
      "outputs": [
        {
          "name": "stdout",
          "text": "Area: 153.94\nCircumference: 43.98\nRadius: 7\nx-coordinate: 0\ny-coordinate: 0\n",
          "output_type": "stream"
        }
      ],
      "execution_count": 4
    },
    {
      "cell_type": "markdown",
      "source": "5. Implement a common base class for the classes implemented in 3 and 4 above which implements all common methods as not implemented functions (virtual). Re-implement your regtangle and circule classes to inherit from the base class and overload the functions accordingly. ",
      "metadata": {}
    },
    {
      "cell_type": "code",
      "source": "from abc import ABC, abstractmethod\nimport math\n\n# Base class for shapes\nclass Shape(ABC):\n    @abstractmethod\n    def compute_area(self):\n        pass\n\n    @abstractmethod\n    def compute_perimeter(self):\n        pass\n\n    @abstractmethod\n    def get_x(self):\n        pass\n\n    @abstractmethod\n    def get_y(self):\n        pass\n\n# Rectangle class\nclass Rectangle(Shape):\n    def __init__(self, length, width, x, y):\n        self.__length = length \n        self.__width = width \n        self.__x = x \n        self.__y = y \n\n    def compute_area(self):\n        return self.__length * self.__width\n\n    def compute_perimeter(self):\n        return 2 * (self.__length + self.__width)\n\n    def get_length(self):\n        return self.__length\n\n    def get_width(self):\n        return self.__width\n\n    def get_x(self):\n        return self.__x\n\n    def get_y(self):\n        return self.__y\n\n# Circle class\nclass Circle(Shape):\n    def __init__(self, radius, x, y):\n        self.__radius = radius \n        self.__x = x \n        self.__y = y \n\n    def compute_area(self):\n        return math.pi * (self.__radius ** 2)\n\n    def compute_perimeter(self):\n        return 2 * math.pi * self.__radius\n\n    def get_radius(self):\n        return self.__radius\n\n    def get_x(self):\n        return self.__x\n\n    def get_y(self):\n        return self.__y\n\n# Example usage \nrect = Rectangle(10, 5, 0, 0)\ncircle = Circle(7, 0, 0)\n\nprint(f\"Rectangle Area: {rect.compute_area()}\")        # Area = 50\nprint(f\"Rectangle Perimeter: {rect.compute_perimeter()}\")  # Perimeter = 30\n\nprint(f\"Circle Area: {circle.compute_area():.2f}\")        # Area = (roughly) 153.94\nprint(f\"Circle Circumference: {circle.compute_perimeter():.2f}\")  # Circumference = (roughly) 43.98",
      "metadata": {
        "trusted": true
      },
      "outputs": [
        {
          "name": "stdout",
          "text": "Rectangle Area: 50\nRectangle Perimeter: 30\nCircle Area: 153.94\nCircle Circumference: 43.98\n",
          "output_type": "stream"
        }
      ],
      "execution_count": 5
    },
    {
      "cell_type": "markdown",
      "source": "6. Implement a triangle class analogous to the rectangle and circle in question 5.",
      "metadata": {}
    },
    {
      "cell_type": "code",
      "source": "import math\nfrom abc import ABC, abstractmethod\n\n# Base class for shapes\nclass Shape(ABC):\n    @abstractmethod\n    def compute_area(self):\n        pass\n\n    @abstractmethod\n    def compute_perimeter(self):\n        pass\n\n    @abstractmethod\n    def get_x(self):\n        pass\n\n    @abstractmethod\n    def get_y(self):\n        pass\n\n# Triangle class\nclass Triangle(Shape):\n    def __init__(self, side1, side2, side3, x, y):\n        \"\"\"\n        Initializes the triangle with three side lengths and coordinates of one corner.\n        \"\"\"\n        self.__side1 = side1 \n        self.__side2 = side2 \n        self.__side3 = side3 \n        self.__x = x \n        self.__y = y \n\n    def compute_area(self):\n        \"\"\"\n        Computes the area of the triangle using Heron's formula.\n        Heron's formula: Area = sqrt(s * (s - a) * (s - b) * (s - c)),\n        where s is the semi-perimeter and a, b, c are the side lengths.\n        \"\"\"\n        s = self.compute_perimeter() / 2 \n        return math.sqrt(s * (s - self.__side1) * (s - self.__side2) * (s - self.__side3))\n\n    def compute_perimeter(self):\n        return self.__side1 + self.__side2 + self.__side3\n\n    def get_x(self):\n        return self.__x\n\n    def get_y(self):\n        return self.__y\n\n    def get_side1(self):\n        return self.__side1\n\n    def get_side2(self):\n        return self.__side2\n\n    def get_side3(self):\n        return self.__side3\n\n# Example usage:\ntriangle = Triangle(3, 4, 5, 0, 0)\n\nprint(f\"Triangle Area: {triangle.compute_area():.2f}\")\nprint(f\"Triangle Perimeter: {triangle.compute_perimeter():.2f}\")\n\nprint(f\"x-coordinate: {triangle.get_x()}\")\nprint(f\"y-coordinate: {triangle.get_y()}\")",
      "metadata": {
        "trusted": true
      },
      "outputs": [
        {
          "name": "stdout",
          "text": "Triangle Area: 6.00\nTriangle Perimeter: 12.00\nx-coordinate: 0\ny-coordinate: 0\n",
          "output_type": "stream"
        }
      ],
      "execution_count": 7
    },
    {
      "cell_type": "markdown",
      "source": "7. Add a function to the object classes, including the base, that returns a list of up to 16 pairs of  $x$ and $y$ points on the parameter of the object. ",
      "metadata": {}
    },
    {
      "cell_type": "code",
      "source": "from abc import ABC, abstractmethod\nimport math\n\n# Base class for shapes\nclass Shape(ABC):\n    @abstractmethod\n    def compute_area(self):\n        pass\n\n    @abstractmethod\n    def compute_perimeter(self):\n        pass\n\n    @abstractmethod\n    def get_x(self):\n        pass\n\n    @abstractmethod\n    def get_y(self):\n        pass\n\n    @abstractmethod\n    def get_perimeter_points(self):\n        pass\n\n# Rectangle class\nclass Rectangle(Shape):\n    def __init__(self, length, width, x, y):\n        self.__length = length\n        self.__width = width\n        self.__x = x\n        self.__y = y\n\n    def compute_area(self):\n        return self.__length * self.__width\n\n    def compute_perimeter(self):\n        return 2 * (self.__length + self.__width)\n\n    def get_x(self):\n        return self.__x\n\n    def get_y(self):\n        return self.__y\n\n    def get_perimeter_points(self):\n        points = []\n        num_points_per_side = max(1, 16 // 4)\n\n        for i in range(num_points_per_side):\n            t = i / num_points_per_side\n            points.append((self.__x + t * self.__length, self.__y))\n            points.append((self.__x + self.__length, self.__y - t * self.__width))\n            points.append((self.__x + self.__length - t * self.__length, self.__y - self.__width))\n            points.append((self.__x, self.__y - self.__width + t * self.__width))\n            \n            if len(points) >= 16:\n                break\n        return points[:16]\n\n# Circle class\nclass Circle(Shape):\n    def __init__(self, radius, x, y):\n        self.__radius = radius\n        self.__x = x\n        self.__y = y\n\n    def compute_area(self):\n        return math.pi * (self.__radius ** 2)\n\n    def compute_perimeter(self):\n        return 2 * math.pi * self.__radius\n\n    def get_x(self):\n        return self.__x\n\n    def get_y(self):\n        return self.__y\n\n    def get_perimeter_points(self):\n        points = []\n        num_points = 16\n        for i in range(num_points):\n            angle = 2 * math.pi * i / num_points\n            x = self.__x + self.__radius * math.cos(angle)\n            y = self.__y + self.__radius * math.sin(angle)\n            points.append((x, y))\n        return points\n\n# Triangle class\nclass Triangle(Shape):\n    def __init__(self, side1, side2, side3, x, y):\n        self.__side1 = side1\n        self.__side2 = side2\n        self.__side3 = side3\n        self.__x = x\n        self.__y = y\n\n    def compute_area(self):\n        s = self.compute_perimeter() / 2\n        return math.sqrt(s * (s - self.__side1) * (s - self.__side2) * (s - self.__side3))\n\n    def compute_perimeter(self):\n        return self.__side1 + self.__side2 + self.__side3\n\n    def get_x(self):\n        return self.__x\n\n    def get_y(self):\n        return self.__y\n\n    def get_perimeter_points(self):\n        points = []\n        num_points_per_side = max(1, 16 // 3)\n\n        # vertex points\n        points.append((self.__x, self.__y))\n        points.append((self.__x + self.__side1, self.__y))\n        points.append((self.__x + (self.__side1 / 2), self.__y + math.sqrt(self.__side2**2 - (self.__side1 / 2)**2)))\n\n        for i in range(1, num_points_per_side):\n            t = i / num_points_per_side\n            points.append((self.__x + t * self.__side1, self.__y))\n            points.append((self.__x + (1 - t) * (self.__side1 / 2), self.__y + t * (math.sqrt(self.__side2**2 - (self.__side1 / 2)**2))))\n            points.append((self.__x + t * (self.__side1 / 2), self.__y + (1 - t) * (math.sqrt(self.__side2**2 - (self.__side1 / 2)**2))))\n            \n            if len(points) >= 16:\n                break\n\n        return points[:16]\n\n# Example usage\nrect = Rectangle(10, 5, 0, 0)\ncircle = Circle(7, 0, 0)\ntriangle = Triangle(3, 4, 5, 0, 0)\n\nprint(f\"Rectangle Perimeter Points: {rect.get_perimeter_points()}\")\nprint(f\"Circle Perimeter Points: {circle.get_perimeter_points()}\")\nprint(f\"Triangle Perimeter Points: {triangle.get_perimeter_points()}\")",
      "metadata": {
        "trusted": true
      },
      "outputs": [
        {
          "name": "stdout",
          "text": "Rectangle Perimeter Points: [(0.0, 0), (10, 0.0), (10.0, -5), (0, -5.0), (2.5, 0), (10, -1.25), (7.5, -5), (0, -3.75), (5.0, 0), (10, -2.5), (5.0, -5), (0, -2.5), (7.5, 0), (10, -3.75), (2.5, -5), (0, -1.25)]\nCircle Perimeter Points: [(7.0, 0.0), (6.467156727579007, 2.6787840265556286), (4.949747468305833, 4.949747468305832), (2.678784026555629, 6.467156727579007), (4.286263797015736e-16, 7.0), (-2.678784026555628, 6.467156727579007), (-4.949747468305832, 4.949747468305833), (-6.467156727579007, 2.678784026555629), (-7.0, 8.572527594031472e-16), (-6.467156727579008, -2.6787840265556278), (-4.949747468305834, -4.949747468305832), (-2.678784026555632, -6.467156727579006), (-1.2858791391047208e-15, -7.0), (2.67878402655563, -6.467156727579006), (4.949747468305832, -4.949747468305834), (6.467156727579006, -2.6787840265556326)]\nTriangle Perimeter Points: [(0, 0), (3, 0), (1.5, 3.7080992435478315), (0.6000000000000001, 0), (1.2000000000000002, 0.7416198487095663), (0.30000000000000004, 2.9664793948382653), (1.2000000000000002, 0), (0.8999999999999999, 1.4832396974191326), (0.6000000000000001, 2.2248595461286986), (1.7999999999999998, 0), (0.6000000000000001, 2.2248595461286986), (0.8999999999999999, 1.4832396974191326), (2.4000000000000004, 0), (0.29999999999999993, 2.9664793948382653), (1.2000000000000002, 0.7416198487095661)]\n",
          "output_type": "stream"
        }
      ],
      "execution_count": 6
    },
    {
      "cell_type": "markdown",
      "source": "8. Add a function to the object classes, including the base, that tests if a given set of $x$ and $y$ coordinates are inside of the object. You'll have to think through how to determine if a set of coordinates are inside an object for each object type.",
      "metadata": {}
    },
    {
      "cell_type": "code",
      "source": "",
      "metadata": {},
      "outputs": [],
      "execution_count": null
    },
    {
      "cell_type": "markdown",
      "source": "9. Add a function in the base class of the object classes that returns true/false testing that the object overlaps with another object.",
      "metadata": {}
    },
    {
      "cell_type": "code",
      "source": "",
      "metadata": {},
      "outputs": [],
      "execution_count": null
    },
    {
      "cell_type": "markdown",
      "source": "10. Copy the `Canvas` class from lecture to in a python file creating a `paint` module. Copy your classes from above into the module and implement paint functions. Implement a `CompoundShape` class. Create a simple drawing demonstrating that all of your classes are working.",
      "metadata": {}
    },
    {
      "cell_type": "code",
      "source": "",
      "metadata": {},
      "outputs": [],
      "execution_count": null
    },
    {
      "cell_type": "markdown",
      "source": "11. Create a `RasterDrawing` class. Demonstrate that you can create a drawing made of several shapes, paint the drawing, modify the drawing, and paint it again. ",
      "metadata": {}
    },
    {
      "cell_type": "code",
      "source": "",
      "metadata": {},
      "outputs": [],
      "execution_count": null
    },
    {
      "cell_type": "markdown",
      "source": "12. Implement the ability to load/save raster drawings and demonstate that your method works. One way to implement this ability:\n\n   * Overload `__repr__` functions of all objects to return strings of the python code that would construct the object.\n   \n   * In the save method of raster drawing class, store the representations into the file.\n   * Write a loader function that reads the file and uses `eval` to instantiate the object.\n\nFor example:",
      "metadata": {}
    },
    {
      "cell_type": "code",
      "source": "class foo:\n    def __init__(self,a,b=None):\n        self.a=a\n        self.b=b\n        \n    def __repr__(self):\n        return \"foo(\"+repr(self.a)+\",\"+repr(self.b)+\")\"\n    \n    def save(self,filename):\n        f=open(filename,\"w\")\n        f.write(self.__repr__())\n        f.close()\n        \n   \ndef foo_loader(filename):\n    f=open(filename,\"r\")\n    tmp=eval(f.read())\n    f.close()\n    return tmp\n",
      "metadata": {},
      "outputs": [],
      "execution_count": 1
    },
    {
      "cell_type": "code",
      "source": "# Test\nprint(repr(foo(1,\"hello\")))",
      "metadata": {},
      "outputs": [
        {
          "name": "stdout",
          "output_type": "stream",
          "text": [
            "foo(1,'hello')\n"
          ]
        }
      ],
      "execution_count": 2
    },
    {
      "cell_type": "code",
      "source": "# Create an object and save it\nff=foo(1,\"hello\")\nff.save(\"Test.foo\")",
      "metadata": {},
      "outputs": [],
      "execution_count": 3
    },
    {
      "cell_type": "code",
      "source": "# Check contents of the saved file\n!cat Test.foo",
      "metadata": {},
      "outputs": [
        {
          "name": "stdout",
          "output_type": "stream",
          "text": [
            "foo(1,'hello')"
          ]
        }
      ],
      "execution_count": 4
    },
    {
      "cell_type": "code",
      "source": "# Load the object\nff_reloaded=foo_loader(\"Test.foo\")\nff_reloaded",
      "metadata": {},
      "outputs": [
        {
          "data": {
            "text/plain": [
              "foo(1,'hello')"
            ]
          },
          "execution_count": 5,
          "metadata": {},
          "output_type": "execute_result"
        }
      ],
      "execution_count": 5
    },
    {
      "cell_type": "code",
      "source": "",
      "metadata": {},
      "outputs": [],
      "execution_count": null
    },
    {
      "cell_type": "code",
      "source": "",
      "metadata": {},
      "outputs": [],
      "execution_count": null
    }
  ]
}