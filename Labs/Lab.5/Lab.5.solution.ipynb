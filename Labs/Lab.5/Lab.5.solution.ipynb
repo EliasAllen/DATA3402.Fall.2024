{
  "cells": [
    {
      "cell_type": "markdown",
      "metadata": {
        "id": "g2n8a4cf-nF6"
      },
      "source": [
        "# Lab 5\n"
      ]
    },
    {
      "cell_type": "markdown",
      "metadata": {
        "id": "4z7BCMQl-nF7"
      },
      "source": [
        "Matrix Representation: In this lab you will be creating a simple linear algebra system. In memory, we will represent matrices as nested python lists as we have done in lecture. In the exercises below, you are required to explicitly test every feature you implement, demonstrating it works.\n",
        "\n",
        "1. Create a `matrix` class with the following properties:\n",
        "    * It can be initialized in 2 ways:\n",
        "        1. with arguments `n` and `m`, the size of the matrix. A newly instanciated matrix will contain all zeros.\n",
        "        2. with a list of lists of values. Note that since we are using lists of lists to implement matrices, it is possible that not all rows have the same number of columns. Test explicitly that the matrix is properly specified.\n",
        "    * Matrix instances `M` can be indexed with `M[i][j]` and `M[i,j]`.\n",
        "    * Matrix assignment works in 2 ways:\n",
        "        1. If `M_1` and `M_2` are `matrix` instances `M_1=M_2` sets the values of `M_1` to those of `M_2`, if they are the same size. Error otherwise.\n",
        "        2. In example above `M_2` can be a list of lists of correct size.\n"
      ]
    },
    {
      "cell_type": "markdown",
      "metadata": {
        "id": "O8hgRU_9-nF7"
      },
      "source": [
        "2. Add the following methods:\n",
        "    * `shape()`: returns a tuple `(n,m)` of the shape of the matrix.\n",
        "    * `transpose()`: returns a new matrix instance which is the transpose of the matrix.\n",
        "    * `row(n)` and `column(n)`: that return the nth row or column of the matrix M as a new appropriately shaped matrix object.\n",
        "    * `to_list()`: which returns the matrix as a list of lists.\n",
        "    *  `block(n_0,n_1,m_0,m_1)` that returns a smaller matrix located at the n_0 to n_1 columns and m_0 to m_1 rows.\n",
        "    * (Extra credit) Modify `__getitem__` implemented above to support slicing.\n",
        "        "
      ]
    },
    {
      "cell_type": "markdown",
      "metadata": {
        "id": "YQr_7xQ5-nF8"
      },
      "source": [
        "3. Write functions that create special matrices (note these are standalone functions, not member functions of your `matrix` class):\n",
        "    * `constant(n,m,c)`: returns a `n` by `m` matrix filled with floats of value `c`.\n",
        "    * `zeros(n,m)` and `ones(n,m)`: return `n` by `m` matrices filled with floats of value `0` and `1`, respectively.\n",
        "    * `eye(n)`: returns the n by n identity matrix."
      ]
    },
    {
      "cell_type": "markdown",
      "metadata": {
        "id": "kth2ptz0-nF8"
      },
      "source": [
        "4. Add the following member functions to your class. Make sure to appropriately test the dimensions of the matrices to make sure the operations are correct.\n",
        "    * `M.scalarmul(c)`: a matrix that is scalar product $cM$, where every element of $M$ is multiplied by $c$.\n",
        "    * `M.add(N)`: adds two matrices $M$ and $N$. Don’t forget to test that the sizes of the matrices are compatible for this and all other operations.\n",
        "    * `M.sub(N)`: subtracts two matrices $M$ and $N$.\n",
        "    * `M.mat_mult(N)`: returns a matrix that is the matrix product of two matrices $M$ and $N$.\n",
        "    * `M.element_mult(N)`: returns a matrix that is the element-wise product of two matrices $M$ and $N$.\n",
        "    * `M.equals(N)`: returns true/false if $M==N$."
      ]
    },
    {
      "cell_type": "markdown",
      "metadata": {
        "id": "kMqWfGIZ-nF8"
      },
      "source": [
        "5. Overload python operators to appropriately use your functions in 4 and allow expressions like:\n",
        "    * 2*M\n",
        "    * M*2\n",
        "    * M+N\n",
        "    * M-N\n",
        "    * M*N\n",
        "    * M==N\n",
        "    * M=N\n"
      ]
    },
    {
      "cell_type": "markdown",
      "metadata": {
        "id": "DkEBuWfF-nF8"
      },
      "source": [
        "6. Demonstrate the basic properties of matrices with your matrix class by creating two 2 by 2 example matrices using your Matrix class and illustrating the following:\n",
        "\n",
        "$$\n",
        "(AB)C=A(BC)\n",
        "$$\n",
        "$$\n",
        "A(B+C)=AB+AC\n",
        "$$\n",
        "$$\n",
        "AB\\neq BA\n",
        "$$\n",
        "$$\n",
        "AI=A\n",
        "$$"
      ]
    },
    {
      "cell_type": "code",
      "execution_count": 1,
      "metadata": {
        "colab": {
          "base_uri": "https://localhost:8080/"
        },
        "id": "yk83cYee-nF8",
        "outputId": "3fb1e1f4-3daf-459d-d375-ead206b12aed"
      },
      "outputs": [
        {
          "output_type": "stream",
          "name": "stdout",
          "text": [
            "Associative property of multiplication: (AB)C == A(BC)\n",
            "False\n",
            "Distributive property of multiplication: A(B+C) == AB + AC\n",
            "False\n",
            "Non-commutativity of multiplication: AB ≠ BA\n",
            "True\n",
            "Multiplying by identity matrix: AI == A\n",
            "False\n"
          ]
        }
      ],
      "source": [
        "# 1.\n",
        "class Matrix:\n",
        "    def __init__(self, n=None, m=None, values=None):\n",
        "        if values is not None:\n",
        "            self.matrix = values\n",
        "            self.n = len(values)\n",
        "            self.m = len(values[0]) if values else 0\n",
        "        else:\n",
        "            self.n = n\n",
        "            self.m = m\n",
        "            self.matrix = [[0.0 for _ in range(m)] for _ in range(n)]\n",
        "\n",
        "    def __getitem__(self, idx):\n",
        "        # M[i,j] and M[i][j] indexing\n",
        "        if isinstance(idx, tuple):\n",
        "            return self.matrix[idx[0]][idx[1]]\n",
        "        else:\n",
        "            return self.matrix[idx]\n",
        "\n",
        "    def __setitem__(self, idx, value):\n",
        "        if isinstance(idx, tuple):\n",
        "            self.matrix[idx[0]][idx[1]] = value\n",
        "        else:\n",
        "            self.matrix[idx] = value\n",
        "\n",
        "    def assign(self, other):\n",
        "        if self.shape() == other.shape():\n",
        "            self.matrix = [row[:] for row in other.matrix]\n",
        "        else:\n",
        "            raise ValueError(\"Matrices must be of the same size for assignment.\")\n",
        "\n",
        "    def shape(self):\n",
        "        return (self.n, self.m)\n",
        "\n",
        "    # 2.\n",
        "    def transpose(self):\n",
        "        return Matrix(values=[[self.matrix[j][i] for j in range(self.n)] for i in range(self.m)])\n",
        "\n",
        "    def row(self, n):\n",
        "        return Matrix(values=[self.matrix[n]])\n",
        "\n",
        "    def column(self, n):\n",
        "        return Matrix(values=[[self.matrix[i][n]] for i in range(self.n)])\n",
        "\n",
        "    def to_list(self):\n",
        "        return self.matrix\n",
        "\n",
        "    def block(self, n_0, n_1, m_0, m_1):\n",
        "        return Matrix(values=[row[m_0:m_1] for row in self.matrix[n_0:n_1]])\n",
        "\n",
        "    # extra credit for support slicing\n",
        "    def __getitem__(self, idx):\n",
        "        if isinstance(idx, tuple):\n",
        "            i, j = idx\n",
        "            if isinstance(i, slice) or isinstance(j, slice):\n",
        "                return Matrix(values=[row[j] for row in self.matrix[i]])\n",
        "            return self.matrix[i][j]\n",
        "        return self.matrix[idx]\n",
        "\n",
        "    # 4.\n",
        "    def scalarmul(self, c):\n",
        "        return Matrix(values=[[c * self.matrix[i][j] for j in range(self.m)] for i in range(self.n)])\n",
        "\n",
        "    def add(self, other):\n",
        "        if self.shape() != other.shape():\n",
        "            raise ValueError(\"Matrices must be of the same size for addition.\")\n",
        "        return Matrix(values=[[self.matrix[i][j] + other.matrix[i][j] for j in range(self.m)] for i in range(self.n)])\n",
        "\n",
        "    def sub(self, other):\n",
        "        if self.shape() != other.shape():\n",
        "            raise ValueError(\"Matrices must be of the same size for subtraction.\")\n",
        "        return Matrix(values=[[self.matrix[i][j] - other.matrix[i][j] for j in range(self.m)] for i in range(self.n)])\n",
        "\n",
        "    def mat_mult(self, other):\n",
        "        if self.m != other.n:\n",
        "            raise ValueError(\"Number of columns in A must match number of rows in B.\")\n",
        "        return Matrix(values=[[sum(self.matrix[i][k] * other.matrix[k][j] for k in range(self.m)) for j in range(other.m)] for i in range(self.n)])\n",
        "\n",
        "    def element_mult(self, other):\n",
        "        if self.shape() != other.shape():\n",
        "            raise ValueError(\"Matrices must be of the same size for element-wise multiplication.\")\n",
        "        return Matrix(values=[[self.matrix[i][j] * other.matrix[i][j] for j in range(self.m)] for i in range(self.n)])\n",
        "\n",
        "    def equals(self, other):\n",
        "        return self.matrix == other.matrix\n",
        "# 3.\n",
        "def constant(n, m, c):\n",
        "    return Matrix(values=[[float(c) for _ in range(m)] for _ in range(n)])\n",
        "\n",
        "def zeros(n, m):\n",
        "    return constant(n, m, 0.0)\n",
        "\n",
        "def ones(n, m):\n",
        "    return constant(n, m, 1.0)\n",
        "\n",
        "def eye(n):\n",
        "    return Matrix(values=[[1.0 if i == j else 0.0 for j in range(n)] for i in range(n)])\n",
        "\n",
        "\n",
        "# 5.\n",
        "def __mul__(self, other):\n",
        "    if isinstance(other, (int, float)):\n",
        "        return self.scalarmul(other)\n",
        "    else:\n",
        "        return self.mat_mult(other)\n",
        "\n",
        "def __rmul__(self, other):\n",
        "    return self.__mul__(other)\n",
        "\n",
        "def __add__(self, other):\n",
        "    return self.add(other)\n",
        "\n",
        "def __sub__(self, other):\n",
        "    return self.sub(other)\n",
        "\n",
        "def __eq__(self, other):\n",
        "    return self.equals(other)\n",
        "\n",
        "def __repr__(self):\n",
        "    return f\"Matrix({self.to_list()})\"\n",
        "\n",
        "# 6.\n",
        "\n",
        "# Example matrices\n",
        "A = Matrix(values=[[1, 2], [3, 4]])\n",
        "B = Matrix(values=[[2, 0], [1, 2]])\n",
        "C = Matrix(values=[[0, 1], [1, 0]])\n",
        "\n",
        "# Properties demonstration\n",
        "print(\"Associative property of multiplication: (AB)C == A(BC)\")\n",
        "print((A.mat_mult(B)).mat_mult(C) == A.mat_mult(B.mat_mult(C)))\n",
        "\n",
        "print(\"Distributive property of multiplication: A(B+C) == AB + AC\")\n",
        "print(A.mat_mult(B.add(C)) == A.mat_mult(B).add(A.mat_mult(C)))\n",
        "\n",
        "print(\"Non-commutativity of multiplication: AB ≠ BA\")\n",
        "print(A.mat_mult(B) != B.mat_mult(A))\n",
        "\n",
        "print(\"Multiplying by identity matrix: AI == A\")\n",
        "I = eye(2)\n",
        "print(A.mat_mult(I) == A)"
      ]
    },
    {
      "cell_type": "code",
      "source": [],
      "metadata": {
        "id": "506TB7EjB8Hx"
      },
      "execution_count": null,
      "outputs": []
    }
  ],
  "metadata": {
    "kernelspec": {
      "display_name": "Python 3 (ipykernel)",
      "language": "python",
      "name": "python3"
    },
    "language_info": {
      "codemirror_mode": {
        "name": "ipython",
        "version": 3
      },
      "file_extension": ".py",
      "mimetype": "text/x-python",
      "name": "python",
      "nbconvert_exporter": "python",
      "pygments_lexer": "ipython3",
      "version": "3.9.6"
    },
    "colab": {
      "provenance": []
    }
  },
  "nbformat": 4,
  "nbformat_minor": 0
}