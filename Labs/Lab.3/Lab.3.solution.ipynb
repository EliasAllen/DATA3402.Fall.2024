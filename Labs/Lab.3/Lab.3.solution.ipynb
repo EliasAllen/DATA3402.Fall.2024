{
  "metadata": {
    "kernelspec": {
      "name": "python",
      "display_name": "Python (Pyodide)",
      "language": "python"
    },
    "language_info": {
      "codemirror_mode": {
        "name": "python",
        "version": 3
      },
      "file_extension": ".py",
      "mimetype": "text/x-python",
      "name": "python",
      "nbconvert_exporter": "python",
      "pygments_lexer": "ipython3",
      "version": "3.8"
    }
  },
  "nbformat_minor": 4,
  "nbformat": 4,
  "cells": [
    {
      "cell_type": "markdown",
      "source": "# Lab 3\n\nIn this lab we will become familiar with distributions, histograms, and functional programming. Do not use numpy or any other library for this lab.\n\nBefore that, lets get setup homework submission and submit your previous lab.  \n\n## Working on the Command-line.\n\nIt is important for you to learn to work on the command line and to be familiar with the Unix environment (e.g. Linux, Mac OS, or Windows Linux Subsystem). We'll go over working on the command-line in detail later in the course.\n\nYou are required to submit your work in this course via GitHub. Today in class, you will setup everything on the command-line.\n\n### Command-line basics\n\nThere is plenty of material online that will help you figure out how to do various tasks on the command line. Commands you may need to know today:\n\n* `ls`: lists the contents of the current directory.\n* `pwd`: prints the path of the current directory.\n* `cd <directory>`: changes your current directory to the specified directory.\n* `cd ..`: changes current directory to the previous directory. Basically steps out of the current directory to the directory containing the current directory.\n* `mkdir <directory>`: create a new directory with the specified name.\n* `rmdir <directory>`: removes the specified directory. Note it has to be empty.\n* `rm <filename>`: deletes the specified file.\n* `mv <filename 1> <filename 1>`: Moves or renames a file.\n* `cp <filename 1> <filename 2>`: copies an file. If you just provide a path to a directory, it copies the file into that directory with the same filename. If you specifiy a new filename, the copy has a new name. For example `cp File.1.txt File.2.txt` creates a copy of `File.1.txt` with the name `File.2.txt`. Meanwhile `cp File.1.txt my_directory`, where `my_directory` is a directory, creates a copy of `File.1.txt` in directory `my_directory` with the name `File.1.txt`.\n\nFor reference, here are some example resources I found by googling:\n\n* Paths and Wildcards: https://www.warp.dev/terminus/linux-wildcards\n* Basic commands like copy: https://kb.iu.edu/d/afsk\n* General introduction to shell: https://github-pages.ucl.ac.uk/RCPSTrainingMaterials/HPCandHTCusingLegion/2_intro_to_shell.html\n* Manual pages: https://www.geeksforgeeks.org/linux-man-page-entries-different-types/?ref=ml_lbp\n* Chaining commands: https://www.geeksforgeeks.org/chaining-commands-in-linux/?ref=ml_lbp\n* Piping: https://www.geeksforgeeks.org/piping-in-unix-or-linux/\n* Using sed: https://www.geeksforgeeks.org/sed-command-linux-set-2/?ref=ml_lbp\n* Various Unix commands: https://www.geeksforgeeks.org/linux-commands/?ref=lbp\n* Cheat sheets:\n    * https://www.stationx.net/unix-commands-cheat-sheet/\n    * https://cheatography.com/davechild/cheat-sheets/linux-command-line/\n    * https://www.theknowledgeacademy.com/blog/unix-commands-cheat-sheet/\n    \nThese aren't necessarily the best resources. Feel free to search for better ones. Also, don't forget that Unix has built-in manual pages for all of its commands. Just type `man <command>` at the command prompt. Use the space-bar to scroll through the documentation and \"q\" to exit.\n\n\n### Setup and Submission\n\nOur course repository is public. The instructions here aim to have you setup a fork of the course repository. Unfortunately because you are forking a public repo, your fork will have to be public also. \n\nYou should be familiar with git from the first semester of this course. I assume that you all have github accounts and have setup things to be able to [push to github using ssh](https://docs.github.com/en/github/authenticating-to-github/connecting-to-github-with-ssh). The instuctions here lead you to:\n\nWe'll overview what you will do before going through step by step instructions.\n\n1. Setup:\n    1. Fork the class repository. Some directions in [fork-a-repo](https://docs.github.com/en/github/getting-started-with-github/fork-a-repo).\n    1. Create a directory on your personal system where you will keep all course materials.\n    1. In that directory, clone your fork of the repository.\n    1. Using `git remote`, set the upstream to be the class repo, so you can pull from the class and push to your fork.\n\n1. Submission:\n    1. Copy your solutions into the appropriate directory (e.g. into `Labs/Lab.2/`) and with appropriate filename `Lab.2.solution.ipynb'.\n    1. Commit / push your solutions.\n    1. Grant access to course instructors.\n\nBelow are step by step instructions with examples (including example directory naming convention). Feel free to modify things as you see fit. \n\n#### Setup\nYou should only need to follow this instructions once. Here are some useful git commands:\n\n* Git help: `git help`\n* Git remote help: `git help remote`\n* Check remote status: `git remote -v`\n* Add a remote: `git remote add <stream name> <repo URL>`\n* Add a remove: `git remote remove <stream name>`\n\nSteps:\n1. In a browser, log into GitHub and navigate to the [course repository](https://github.com/UTA-DataScience/DATA3402.Fall.2024).\n1. On the top right of the page, press the fork button to create a new fork into your own GitHub account.\n1. After successful fork, you should find the browser showing your fork of the course repository. Use the green \"Code\" button to copy path to the repo into your the clipboard of your computer.\n1. Open a shell on your personal computer.\n1. If you have not done so already, create a new directory/folder where you will keep all course material to navigate to it. For example: `mkdir Data-3402` and `cd Data-3402`.\n1. Clone your fork of the repository using `git clone` followed by the path you copied into your clipboard. (copy/paste)\n1. Paste the URL to your fork in the worksheet for the TAs and instructors.\n1. Now go into the directory of your clone (`cd DATA3402.Fall.2024`).\n1. Type `git remote -v` to see the current setup for fetch and pull.\n1. Note the URL you see. This should be the same as what you used for your clone for both push and fetch.\n1. Delete the origin remote using `git remote remove origin`.\n1. Add the course repo as your remote using `git remote add origin https://github.com/UTA-DataScience/DATA3402.Fall.2024.git`.\n1. Change the push to point to your fork. This means you will need the URL to your clone we copied earlier and confirmed as the original origin. The command will look something like: `git remote set-url --push origin  https://github.com/XXXXXX/DATA3402.Fall.2024.git`, where XXXXX is your username on GitHub.\n1. Note that if you setup everything correctly, you now should be able to do `git pull` to get updates from the course repo, and do `git push` to push your commits into your own fork.\n\n### Submission\nThese instructions outline how you submit files. Some useful commands:\n* To add a file to local repository: `git add <file>`.\n* To commit all changed files into local repository: `git -a -m \"A message\"`. You need to provide some comment when you commit. \n* To push the commited files from the local repository to GitHub: `git push`.\n* To get updates from GitHub: `git pull`.\n\nSteps:\n1. To submit your labs, navigate to your clone of your fork of the course repository. \n1. Use `git pull` to make sure you have the latest updates. \n1. Make sure your copy of the lab your are working on is in the appropriate place in this clone. That means if you have the file elsewhere, copy it to the same directory in your clone of your fork. \n1. Note that in order to avoid future conflicts, you should always name your solution differently than the original file in the class repo. For example if your file is still named `Lab.2.ipynb` you should rename it using the `mv` command: `mv Lab.2.ipynb Lab.2.solution.ipynb`. \n1. Add and files you wish to submit into the repo. For example: `git add Labs/Lab.2/Lab.2.solution.ipynb`\n1. Commit any changes: `git commit -a -m \"Lab 2 updates\"`\n1. Push your changes: `git push`\n1. Check on github website that your solutions have been properly submitted.\n\nBefore you leave the session today, make sure your GitHub Repo is setup. If you need to work further on your lab, navigate jupyter to the copy of the lab you just submitted and work there. Once done, repeat the commit and push commands to submit your updated solution. Note that lab 2 is due by midnight Monday 9/8/2024.\n",
      "metadata": {}
    },
    {
      "cell_type": "markdown",
      "source": "### Uniform Distribution\nLets start with generating some fake random data. You can get a random number between 0 and 1 using the python random module as follow:",
      "metadata": {}
    },
    {
      "cell_type": "code",
      "source": "import random\nx=random.random()\nprint(\"The Value of x is\", x)",
      "metadata": {
        "trusted": true
      },
      "outputs": [
        {
          "name": "stdout",
          "text": "The Value of x is 0.9941444461135295\n",
          "output_type": "stream"
        }
      ],
      "execution_count": 1
    },
    {
      "cell_type": "markdown",
      "source": "Everytime you call random, you will get a new number.\n\n*Exercise 1:* Using random, write a function `generate_uniform(N, mymin, mymax)`, that returns a python list containing N random numbers between specified minimum and maximum value. Note that you may want to quickly work out on paper how to turn numbers between 0 and 1 to between other values. ",
      "metadata": {}
    },
    {
      "cell_type": "code",
      "source": "# Skeleton\ndef generate_uniform(N,x_min,x_max):\n    out = []\n    ### BEGIN SOLUTION\n\n    for _ in range(N):\n        rand_num = random.random()\n        scaled_num = x_min + (x_max - x_min) * rand_num\n        out.append(scaled_num)        \n    \n    ### END SOLUTION\n    return out",
      "metadata": {
        "trusted": true
      },
      "outputs": [],
      "execution_count": 2
    },
    {
      "cell_type": "code",
      "source": "# Test your solution here\ndata=generate_uniform(1000,-10,10)\nprint (\"Data Type:\", type(data))\nprint (\"Data Length:\", len(data))\nif len(data)>0: \n    print (\"Type of Data Contents:\", type(data[0]))\n    print (\"Data Minimum:\", min(data))\n    print (\"Data Maximum:\", max(data))",
      "metadata": {
        "trusted": true
      },
      "outputs": [
        {
          "name": "stdout",
          "text": "Data Type: <class 'list'>\nData Length: 1000\nType of Data Contents: <class 'float'>\nData Minimum: -9.993767183331368\nData Maximum: 9.992759894894526\n",
          "output_type": "stream"
        }
      ],
      "execution_count": 3
    },
    {
      "cell_type": "markdown",
      "source": "*Exercise 2a:* \nWrite a function that computes the mean of values in a list. Recall the equation for the mean of a random variable $\\bf{x}$ computed on a data set of $n$ values $\\{ x_i \\} = \\{x_1, x_2, ..., x_n\\}$  is ${\\bf\\bar{x}} = \\frac{1}{n} \\sum_i^n x_i$.",
      "metadata": {}
    },
    {
      "cell_type": "code",
      "source": "# Skeleton\ndef mean(Data):\n    m=0.\n    \n    ### BEGIN SOLUTION\n\n    total_sum = sum(Data)\n    m = total_sum / len(Data)       \n    \n    ### END SOLUTION\n    \n    return m",
      "metadata": {
        "trusted": true
      },
      "outputs": [],
      "execution_count": 4
    },
    {
      "cell_type": "code",
      "source": "# Test your solution here\nprint (\"Mean of Data:\", mean(data))",
      "metadata": {
        "trusted": true
      },
      "outputs": [
        {
          "name": "stdout",
          "text": "Mean of Data: -0.010055671886895741\n",
          "output_type": "stream"
        }
      ],
      "execution_count": 5
    },
    {
      "cell_type": "markdown",
      "source": "*Exercise 2b:* \nWrite a function that computes the variance of values in a list. Recall the equation for the variance of a random variable $\\bf{x}$ computed on a data set of $n$ values $\\{ x_i \\} = \\{x_1, x_2, ..., x_n\\}$  is ${\\bf\\langle x \\rangle} = \\frac{1}{n} \\sum_i^n (x_i - {\\bf\\bar{x}})$.",
      "metadata": {}
    },
    {
      "cell_type": "code",
      "source": "# Skeleton\ndef variance(Data):\n    m=0.\n    \n    ### BEGIN SOLUTION\n\n    # Calculate the mean\n    m = mean(Data)\n    \n    # Calculate the variance\n    squared_diffs = [(x - m) ** 2 for x in Data]\n    var = sum(squared_diffs) / len(Data)       \n\n    return var\n    ### END SOLUTION\n    \n    return m",
      "metadata": {
        "trusted": true
      },
      "outputs": [],
      "execution_count": 12
    },
    {
      "cell_type": "code",
      "source": "# Test your solution here\nprint (\"Variance of Data:\", variance(data))",
      "metadata": {
        "trusted": true
      },
      "outputs": [
        {
          "name": "stdout",
          "text": "Variance of Data: 34.100552608121276\n",
          "output_type": "stream"
        }
      ],
      "execution_count": 13
    },
    {
      "cell_type": "markdown",
      "source": "## Histogramming",
      "metadata": {}
    },
    {
      "cell_type": "markdown",
      "source": "*Exercise 3:* Write a function that bins the data so that you can create a histogram. An example of how to implement histogramming is the following logic:\n\n* User inputs a list of values `x` and optionally `n_bins` which defaults to 10.\n* If not supplied, find the minimum and maximum (`x_min`,`x_max`) of the values in x.\n* Determine the bin size (`bin_size`) by dividing the range of the function by the number of bins.\n* Create an empty list of zeros of size `n_bins`, call it `hist`.\n* Loop over the values in `x`\n    * Loop over the values in `hist` with index `i`:\n        * If x is between `x_min+i*bin_size` and `x_min+(i+1)*bin_size`, increment `hist[i].` \n        * For efficiency, try to use continue to goto the next bin and data point.\n* Return `hist` and the list corresponding of the bin edges (i.e. of `x_min+i*bin_size`).    ",
      "metadata": {}
    },
    {
      "cell_type": "code",
      "source": "# Solution\ndef histogram(x,n_bins=10,x_min=None,x_max=None):\n    ### BEGIN SOLUTION\n\n    x_min = min(x)\n    x_max = max(x)\n    \n    # bin size\n    bin_size = (x_max - x_min) / n_bins\n    \n    # histogram list and bin edges\n    hist = [0] * n_bins\n    bin_edges = [x_min + i * bin_size for i in range(n_bins + 1)]\n    \n    # binning the data\n    for value in x:\n        for i in range(n_bins):\n            if x_min + i * bin_size <= value < x_min + (i + 1) * bin_size:\n                hist[i] += 1\n                break        \n    \n    ### END SOLUTION\n\n    return hist,bin_edges",
      "metadata": {
        "trusted": true
      },
      "outputs": [],
      "execution_count": 82
    },
    {
      "cell_type": "code",
      "source": "# Test your solution here\nh,b=histogram(data,100)\nprint(\"Histogram:\",h)\nprint(\"Bins:\",b)",
      "metadata": {
        "trusted": true
      },
      "outputs": [
        {
          "name": "stdout",
          "text": "Histogram: [13, 14, 11, 10, 13, 14, 11, 9, 13, 10, 9, 8, 8, 6, 21, 12, 9, 11, 9, 14, 13, 10, 6, 12, 14, 11, 7, 10, 8, 10, 8, 9, 9, 12, 7, 6, 10, 10, 12, 5, 6, 7, 7, 12, 7, 7, 12, 7, 12, 9, 17, 6, 5, 9, 10, 10, 9, 9, 14, 6, 10, 9, 12, 9, 9, 13, 9, 13, 15, 14, 11, 14, 11, 13, 7, 11, 6, 12, 9, 10, 15, 11, 9, 9, 11, 6, 9, 3, 12, 7, 8, 14, 9, 9, 6, 10, 9, 8, 13, 9]\nBins: [-9.994488899787013, -9.794593980633275, -9.594699061479535, -9.394804142325796, -9.194909223172058, -8.995014304018317, -8.795119384864579, -8.59522446571084, -8.3953295465571, -8.195434627403362, -7.995539708249623, -7.795644789095884, -7.595749869942145, -7.395854950788406, -7.195960031634667, -6.996065112480927, -6.796170193327189, -6.5962752741734505, -6.396380355019711, -6.196485435865972, -5.996590516712233, -5.796695597558494, -5.596800678404755, -5.396905759251016, -5.197010840097277, -4.997115920943537, -4.797221001789799, -4.59732608263606, -4.39743116348232, -4.197536244328582, -3.9976413251748424, -3.797746406021104, -3.5978514868673646, -3.397956567713625, -3.1980616485598867, -2.9981667294061474, -2.798271810252409, -2.5983768910986695, -2.39848197194493, -2.1985870527911917, -1.9986921336374524, -1.798797214483713, -1.5989022953299745, -1.399007376176236, -1.1991124570224958, -0.9992175378687573, -0.7993226187150189, -0.5994276995612786, -0.39953278040754014, -0.19963786125380167, 0.0002570578999385731, 0.20015197705367704, 0.4000468962074155, 0.5999418153611558, 0.7998367345148942, 0.9997316536686327, 1.199626572822373, 1.3995214919761114, 1.59941641112985, 1.7993113302835884, 1.9992062494373286, 2.199101168591067, 2.3989960877448055, 2.598891006898546, 2.7987859260522843, 2.9986808452060227, 3.198575764359763, 3.3984706835135015, 3.59836560266724, 3.79826052182098, 3.9981554409747186, 4.198050360128457, 4.397945279282196, 4.597840198435936, 4.797735117589674, 4.997630036743413, 5.197524955897153, 5.3974198750508915, 5.59731479420463, 5.79720971335837, 5.997104632512109, 6.196999551665849, 6.396894470819587, 6.596789389973326, 6.796684309127064, 6.996579228280803, 7.196474147434541, 7.396369066588283, 7.596263985742022, 7.79615890489576, 7.996053824049499, 8.195948743203237, 8.395843662356976, 8.595738581510718, 8.795633500664456, 8.995528419818195, 9.195423338971933, 9.395318258125672, 9.59521317727941, 9.795108096433149, 9.99500301558689]\n",
          "output_type": "stream"
        }
      ],
      "execution_count": 84
    },
    {
      "cell_type": "markdown",
      "source": "*Exercise 4:* Write a function that uses the histogram function in the previous exercise to create a text-based \"graph\". For example the output could look like the following:\n```\n[  0,  1] : ######\n[  1,  2] : #####\n[  2,  3] : ######\n[  3,  4] : ####\n[  4,  5] : ####\n[  5,  6] : ######\n[  6,  7] : #####\n[  7,  8] : ######\n[  8,  9] : ####\n[  9, 10] : #####\n```\n\nWhere each line corresponds to a bin and the number of `#`'s are proportional to the value of the data in the bin. ",
      "metadata": {}
    },
    {
      "cell_type": "code",
      "source": "# Solution\ndef draw_histogram(x,n_bins,x_min=None,x_max=None,character=\"#\",max_character_per_line=20):\n    ### BEGIN SOLUTION\n\n    # generating histogram data\n    hist, bin_edges = histogram(x, n_bins, x_min, x_max)\n    \n    # setting maximum count for scaling\n    max_count = max(hist) if hist else 1\n    \n    # histogram lines\n    for i in range(n_bins):\n        count = hist[i]\n        scaled_count = int(count / max_count * max_character_per_line)\n        print(f\"[{bin_edges[i]:>5.1f}, {bin_edges[i + 1]:>5.1f}] : {character * scaled_count}\")\n    ### END SOLUTION\n\n    return hist,bin_edges",
      "metadata": {
        "trusted": true
      },
      "outputs": [],
      "execution_count": 80
    },
    {
      "cell_type": "code",
      "source": "# Test your solution here\nh,b=draw_histogram(data,20)",
      "metadata": {
        "trusted": true
      },
      "outputs": [
        {
          "name": "stdout",
          "text": "[-10.0,  -9.0] : ###################\n[ -9.0,  -8.0] : #################\n[ -8.0,  -7.0] : ################\n[ -7.0,  -6.0] : #################\n[ -6.0,  -5.0] : #################\n[ -5.0,  -4.0] : ##############\n[ -4.0,  -3.0] : ##############\n[ -3.0,  -2.0] : #############\n[ -2.0,  -1.0] : ############\n[ -1.0,   0.0] : ##############\n[  0.0,   1.0] : ##############\n[  1.0,   2.0] : ###############\n[  2.0,   3.0] : ###############\n[  3.0,   4.0] : ####################\n[  4.0,   5.0] : #################\n[  5.0,   6.0] : ###############\n[  6.0,   7.0] : #################\n[  7.0,   8.0] : ###########\n[  8.0,   9.0] : ##############\n[  9.0,  10.0] : ###############\n",
          "output_type": "stream"
        }
      ],
      "execution_count": 81
    },
    {
      "cell_type": "markdown",
      "source": "## Functional Programming\n\n*Exercise 5:* Write a function the applies a booling function (that returns true/false) to every element in data, and return a list of indices of elements where the result was true. Use this function to find the indices of entries greater than 0.5. ",
      "metadata": {}
    },
    {
      "cell_type": "code",
      "source": "def where(mylist,myfunc):\n    out= []\n    \n    ### BEGIN SOLUTION\n\n    for index, value in enumerate(mylist):\n        if myfunc(value):\n            out.append(index)        \n    \n    ### END SOLUTION\n    \n    return out",
      "metadata": {
        "trusted": true
      },
      "outputs": [],
      "execution_count": 42
    },
    {
      "cell_type": "code",
      "source": "# Test your solution here\nindices = where(data, lambda x: x > 0.5)\nprint(\"Indices where the value is greater than 0.5:\", indices)",
      "metadata": {
        "trusted": true
      },
      "outputs": [
        {
          "name": "stdout",
          "text": "Indices where the value is greater than 0.5: [0, 1, 2, 5, 6, 7, 8, 9, 10, 11, 13, 14, 15, 17, 19, 21, 24, 28, 29, 30, 32, 33, 35, 37, 41, 42, 43, 49, 50, 51, 52, 53, 57, 58, 62, 63, 65, 66, 68, 74, 80, 83, 86, 87, 88, 89, 90, 91, 95, 96, 97, 98, 99, 101, 105, 109, 111, 113, 115, 116, 117, 119, 122, 123, 124, 125, 127, 130, 131, 132, 135, 137, 138, 144, 145, 146, 149, 150, 154, 156, 159, 163, 165, 167, 169, 172, 173, 180, 182, 184, 188, 189, 190, 195, 196, 197, 198, 199, 201, 202, 207, 211, 212, 213, 214, 216, 225, 227, 228, 229, 230, 231, 232, 235, 236, 237, 239, 241, 244, 246, 247, 249, 253, 255, 256, 257, 259, 260, 262, 266, 267, 268, 270, 272, 274, 275, 276, 277, 278, 279, 280, 290, 293, 296, 297, 298, 303, 306, 311, 313, 315, 316, 322, 324, 327, 328, 331, 332, 334, 335, 336, 337, 341, 344, 345, 347, 348, 349, 350, 352, 355, 356, 357, 359, 360, 363, 364, 366, 367, 368, 369, 371, 374, 376, 377, 379, 382, 384, 385, 387, 389, 390, 393, 394, 396, 400, 402, 403, 404, 407, 409, 410, 411, 413, 414, 421, 426, 430, 431, 432, 433, 436, 437, 440, 443, 445, 448, 451, 453, 455, 456, 457, 458, 461, 463, 464, 467, 468, 472, 475, 477, 479, 482, 483, 487, 488, 493, 494, 495, 496, 500, 501, 503, 504, 506, 514, 515, 517, 520, 521, 524, 525, 528, 533, 534, 538, 539, 540, 541, 544, 547, 548, 550, 551, 554, 556, 559, 562, 563, 570, 571, 572, 579, 581, 582, 583, 585, 590, 591, 593, 596, 597, 601, 604, 606, 608, 609, 610, 611, 614, 617, 618, 621, 624, 625, 631, 632, 634, 639, 640, 643, 644, 645, 649, 650, 651, 652, 654, 656, 657, 662, 664, 667, 668, 669, 671, 675, 676, 678, 679, 680, 681, 682, 684, 686, 691, 695, 697, 698, 701, 703, 705, 706, 708, 709, 710, 714, 716, 719, 721, 723, 725, 726, 728, 733, 734, 736, 738, 739, 742, 743, 749, 751, 752, 753, 755, 759, 763, 766, 767, 768, 769, 771, 772, 774, 775, 779, 780, 786, 788, 789, 790, 795, 799, 804, 807, 809, 814, 815, 817, 818, 821, 822, 824, 827, 828, 829, 832, 836, 837, 838, 839, 843, 845, 846, 847, 857, 858, 859, 860, 867, 870, 876, 878, 883, 886, 887, 888, 889, 890, 891, 895, 898, 900, 901, 902, 903, 904, 911, 912, 913, 916, 925, 929, 930, 933, 934, 935, 936, 937, 938, 939, 940, 945, 946, 947, 950, 952, 954, 955, 956, 958, 959, 960, 961, 962, 964, 965, 969, 970, 976, 978, 980, 982, 983, 984, 990, 991, 995]\n",
          "output_type": "stream"
        }
      ],
      "execution_count": 43
    },
    {
      "cell_type": "markdown",
      "source": "*Exercise 6:* The `inrange(mymin,mymax)` function below returns a function that tests if it's input is between the specified values. Write corresponding functions that test:\n* Even\n* Odd\n* Greater than\n* Less than\n* Equal\n* Divisible by",
      "metadata": {}
    },
    {
      "cell_type": "code",
      "source": "def in_range(mymin,mymax):\n    def testrange(x):\n        return x<mymax and x>=mymin\n    return testrange\n\n# Examples:\nF1=in_range(0,10)\nF2=in_range(10,20)\n\n# Test of in_range\nprint (F1(0), F1(1), F1(10), F1(15), F1(20))\nprint (F2(0), F2(1), F2(10), F2(15), F2(20))\n\nprint (\"Number of Entries passing F1:\", len(where(data,F1)))\nprint (\"Number of Entries passing F2:\", len(where(data,F2)))",
      "metadata": {
        "trusted": true
      },
      "outputs": [
        {
          "name": "stdout",
          "text": "True True False False False\nFalse False True True False\nNumber of Entries passing F1: 485\nNumber of Entries passing F2: 0\n",
          "output_type": "stream"
        }
      ],
      "execution_count": 45
    },
    {
      "cell_type": "code",
      "source": "### BEGIN SOLUTION\n\ndef is_even(x):\n    return x % 2 == 0\n\ndef is_odd(x):\n    return x % 2 != 0\n\ndef is_greater_than(threshold):\n    def test(x):\n        return x > threshold\n    return test\n\ndef is_less_than(threshold):\n    def test(x):\n        return x < threshold\n    return test\n\ndef is_equal(value):\n    def test(x):\n        return x == value\n    return test\n\ndef is_divisible_by(divisor):\n    def test(x):\n        return x % divisor == 0\n    return test       \n    \n### END SOLUTION",
      "metadata": {
        "trusted": true
      },
      "outputs": [],
      "execution_count": 47
    },
    {
      "cell_type": "code",
      "source": "# Test your solution\nF_even = is_even\nF_odd = is_odd\nF_greater_than_0 = is_greater_than(0)\nF_less_than_5 = is_less_than(5)\nF_equal_3 = is_equal(3)\nF_divisible_by_3 = is_divisible_by(3)\n\nprint(\"Indices of even numbers:\", where(data, F_even))\nprint(\"Indices of odd numbers:\", where(data, F_odd))\nprint(\"Indices greater than 0:\", where(data, F_greater_than_0))\nprint(\"Indices less than 5:\", where(data, F_less_than_5))\nprint(\"Indices equal to 3:\", where(data, F_equal_3))\nprint(\"Indices divisible by 3:\", where(data, F_divisible_by_3))",
      "metadata": {
        "trusted": true
      },
      "outputs": [
        {
          "name": "stdout",
          "text": "Indices of even numbers: []\nIndices of odd numbers: [0, 1, 2, 3, 4, 5, 6, 7, 8, 9, 10, 11, 12, 13, 14, 15, 16, 17, 18, 19, 20, 21, 22, 23, 24, 25, 26, 27, 28, 29, 30, 31, 32, 33, 34, 35, 36, 37, 38, 39, 40, 41, 42, 43, 44, 45, 46, 47, 48, 49, 50, 51, 52, 53, 54, 55, 56, 57, 58, 59, 60, 61, 62, 63, 64, 65, 66, 67, 68, 69, 70, 71, 72, 73, 74, 75, 76, 77, 78, 79, 80, 81, 82, 83, 84, 85, 86, 87, 88, 89, 90, 91, 92, 93, 94, 95, 96, 97, 98, 99, 100, 101, 102, 103, 104, 105, 106, 107, 108, 109, 110, 111, 112, 113, 114, 115, 116, 117, 118, 119, 120, 121, 122, 123, 124, 125, 126, 127, 128, 129, 130, 131, 132, 133, 134, 135, 136, 137, 138, 139, 140, 141, 142, 143, 144, 145, 146, 147, 148, 149, 150, 151, 152, 153, 154, 155, 156, 157, 158, 159, 160, 161, 162, 163, 164, 165, 166, 167, 168, 169, 170, 171, 172, 173, 174, 175, 176, 177, 178, 179, 180, 181, 182, 183, 184, 185, 186, 187, 188, 189, 190, 191, 192, 193, 194, 195, 196, 197, 198, 199, 200, 201, 202, 203, 204, 205, 206, 207, 208, 209, 210, 211, 212, 213, 214, 215, 216, 217, 218, 219, 220, 221, 222, 223, 224, 225, 226, 227, 228, 229, 230, 231, 232, 233, 234, 235, 236, 237, 238, 239, 240, 241, 242, 243, 244, 245, 246, 247, 248, 249, 250, 251, 252, 253, 254, 255, 256, 257, 258, 259, 260, 261, 262, 263, 264, 265, 266, 267, 268, 269, 270, 271, 272, 273, 274, 275, 276, 277, 278, 279, 280, 281, 282, 283, 284, 285, 286, 287, 288, 289, 290, 291, 292, 293, 294, 295, 296, 297, 298, 299, 300, 301, 302, 303, 304, 305, 306, 307, 308, 309, 310, 311, 312, 313, 314, 315, 316, 317, 318, 319, 320, 321, 322, 323, 324, 325, 326, 327, 328, 329, 330, 331, 332, 333, 334, 335, 336, 337, 338, 339, 340, 341, 342, 343, 344, 345, 346, 347, 348, 349, 350, 351, 352, 353, 354, 355, 356, 357, 358, 359, 360, 361, 362, 363, 364, 365, 366, 367, 368, 369, 370, 371, 372, 373, 374, 375, 376, 377, 378, 379, 380, 381, 382, 383, 384, 385, 386, 387, 388, 389, 390, 391, 392, 393, 394, 395, 396, 397, 398, 399, 400, 401, 402, 403, 404, 405, 406, 407, 408, 409, 410, 411, 412, 413, 414, 415, 416, 417, 418, 419, 420, 421, 422, 423, 424, 425, 426, 427, 428, 429, 430, 431, 432, 433, 434, 435, 436, 437, 438, 439, 440, 441, 442, 443, 444, 445, 446, 447, 448, 449, 450, 451, 452, 453, 454, 455, 456, 457, 458, 459, 460, 461, 462, 463, 464, 465, 466, 467, 468, 469, 470, 471, 472, 473, 474, 475, 476, 477, 478, 479, 480, 481, 482, 483, 484, 485, 486, 487, 488, 489, 490, 491, 492, 493, 494, 495, 496, 497, 498, 499, 500, 501, 502, 503, 504, 505, 506, 507, 508, 509, 510, 511, 512, 513, 514, 515, 516, 517, 518, 519, 520, 521, 522, 523, 524, 525, 526, 527, 528, 529, 530, 531, 532, 533, 534, 535, 536, 537, 538, 539, 540, 541, 542, 543, 544, 545, 546, 547, 548, 549, 550, 551, 552, 553, 554, 555, 556, 557, 558, 559, 560, 561, 562, 563, 564, 565, 566, 567, 568, 569, 570, 571, 572, 573, 574, 575, 576, 577, 578, 579, 580, 581, 582, 583, 584, 585, 586, 587, 588, 589, 590, 591, 592, 593, 594, 595, 596, 597, 598, 599, 600, 601, 602, 603, 604, 605, 606, 607, 608, 609, 610, 611, 612, 613, 614, 615, 616, 617, 618, 619, 620, 621, 622, 623, 624, 625, 626, 627, 628, 629, 630, 631, 632, 633, 634, 635, 636, 637, 638, 639, 640, 641, 642, 643, 644, 645, 646, 647, 648, 649, 650, 651, 652, 653, 654, 655, 656, 657, 658, 659, 660, 661, 662, 663, 664, 665, 666, 667, 668, 669, 670, 671, 672, 673, 674, 675, 676, 677, 678, 679, 680, 681, 682, 683, 684, 685, 686, 687, 688, 689, 690, 691, 692, 693, 694, 695, 696, 697, 698, 699, 700, 701, 702, 703, 704, 705, 706, 707, 708, 709, 710, 711, 712, 713, 714, 715, 716, 717, 718, 719, 720, 721, 722, 723, 724, 725, 726, 727, 728, 729, 730, 731, 732, 733, 734, 735, 736, 737, 738, 739, 740, 741, 742, 743, 744, 745, 746, 747, 748, 749, 750, 751, 752, 753, 754, 755, 756, 757, 758, 759, 760, 761, 762, 763, 764, 765, 766, 767, 768, 769, 770, 771, 772, 773, 774, 775, 776, 777, 778, 779, 780, 781, 782, 783, 784, 785, 786, 787, 788, 789, 790, 791, 792, 793, 794, 795, 796, 797, 798, 799, 800, 801, 802, 803, 804, 805, 806, 807, 808, 809, 810, 811, 812, 813, 814, 815, 816, 817, 818, 819, 820, 821, 822, 823, 824, 825, 826, 827, 828, 829, 830, 831, 832, 833, 834, 835, 836, 837, 838, 839, 840, 841, 842, 843, 844, 845, 846, 847, 848, 849, 850, 851, 852, 853, 854, 855, 856, 857, 858, 859, 860, 861, 862, 863, 864, 865, 866, 867, 868, 869, 870, 871, 872, 873, 874, 875, 876, 877, 878, 879, 880, 881, 882, 883, 884, 885, 886, 887, 888, 889, 890, 891, 892, 893, 894, 895, 896, 897, 898, 899, 900, 901, 902, 903, 904, 905, 906, 907, 908, 909, 910, 911, 912, 913, 914, 915, 916, 917, 918, 919, 920, 921, 922, 923, 924, 925, 926, 927, 928, 929, 930, 931, 932, 933, 934, 935, 936, 937, 938, 939, 940, 941, 942, 943, 944, 945, 946, 947, 948, 949, 950, 951, 952, 953, 954, 955, 956, 957, 958, 959, 960, 961, 962, 963, 964, 965, 966, 967, 968, 969, 970, 971, 972, 973, 974, 975, 976, 977, 978, 979, 980, 981, 982, 983, 984, 985, 986, 987, 988, 989, 990, 991, 992, 993, 994, 995, 996, 997, 998, 999]\nIndices greater than 0: [0, 1, 2, 5, 6, 7, 8, 9, 10, 11, 13, 14, 15, 17, 19, 21, 24, 28, 29, 30, 32, 33, 35, 37, 41, 42, 43, 49, 50, 51, 52, 53, 54, 57, 58, 60, 62, 63, 65, 66, 67, 68, 73, 74, 80, 83, 86, 87, 88, 89, 90, 91, 95, 96, 97, 98, 99, 101, 105, 109, 111, 113, 115, 116, 117, 119, 122, 123, 124, 125, 127, 130, 131, 132, 135, 137, 138, 144, 145, 146, 149, 150, 154, 156, 159, 163, 165, 167, 169, 172, 173, 180, 182, 184, 188, 189, 190, 195, 196, 197, 198, 199, 200, 201, 202, 207, 211, 212, 213, 214, 216, 219, 225, 227, 228, 229, 230, 231, 232, 235, 236, 237, 239, 241, 242, 244, 246, 247, 249, 253, 255, 256, 257, 259, 260, 262, 266, 267, 268, 270, 272, 274, 275, 276, 277, 278, 279, 280, 290, 293, 296, 297, 298, 303, 306, 311, 313, 315, 316, 319, 322, 324, 327, 328, 331, 332, 334, 335, 336, 337, 341, 344, 345, 347, 348, 349, 350, 352, 353, 355, 356, 357, 359, 360, 363, 364, 366, 367, 368, 369, 371, 374, 376, 377, 379, 382, 384, 385, 387, 389, 390, 393, 394, 396, 400, 402, 403, 404, 407, 409, 410, 411, 413, 414, 421, 425, 426, 430, 431, 432, 433, 436, 437, 440, 443, 445, 446, 448, 451, 453, 455, 456, 457, 458, 461, 463, 464, 467, 468, 472, 475, 477, 479, 482, 483, 484, 487, 488, 493, 494, 495, 496, 500, 501, 503, 504, 506, 514, 515, 517, 520, 521, 524, 525, 528, 529, 533, 534, 538, 539, 540, 541, 544, 547, 548, 550, 551, 554, 556, 559, 562, 563, 570, 571, 572, 579, 581, 582, 583, 585, 590, 591, 593, 596, 597, 601, 604, 605, 606, 608, 609, 610, 611, 614, 617, 618, 621, 624, 625, 627, 629, 631, 632, 634, 639, 640, 641, 643, 644, 645, 649, 650, 651, 652, 654, 656, 657, 662, 664, 666, 667, 668, 669, 671, 675, 676, 678, 679, 680, 681, 682, 684, 686, 691, 695, 697, 698, 701, 703, 705, 706, 708, 709, 710, 714, 716, 719, 721, 723, 725, 726, 728, 730, 733, 734, 736, 738, 739, 742, 743, 749, 751, 752, 753, 755, 759, 761, 763, 766, 767, 768, 769, 771, 772, 774, 775, 779, 780, 786, 787, 788, 789, 790, 791, 795, 799, 804, 807, 809, 814, 815, 817, 818, 820, 821, 822, 824, 827, 828, 829, 832, 836, 837, 838, 839, 843, 845, 846, 847, 857, 858, 859, 860, 867, 870, 876, 878, 882, 883, 886, 887, 888, 889, 890, 891, 895, 898, 900, 901, 902, 903, 904, 907, 911, 912, 913, 915, 916, 925, 929, 930, 933, 934, 935, 936, 937, 938, 939, 940, 945, 946, 947, 950, 952, 954, 955, 956, 958, 959, 960, 961, 962, 964, 965, 969, 970, 976, 978, 980, 982, 983, 984, 990, 991, 995]\nIndices less than 5: [0, 1, 3, 4, 6, 8, 10, 12, 16, 17, 18, 19, 20, 21, 22, 23, 25, 26, 27, 29, 30, 31, 34, 36, 38, 39, 40, 41, 42, 43, 44, 45, 46, 47, 48, 54, 55, 56, 59, 60, 61, 62, 63, 64, 65, 67, 68, 69, 70, 71, 72, 73, 74, 75, 76, 77, 78, 79, 81, 82, 84, 85, 88, 92, 93, 94, 96, 97, 98, 100, 101, 102, 103, 104, 105, 106, 107, 108, 109, 110, 112, 114, 116, 118, 120, 121, 124, 125, 126, 128, 129, 130, 133, 134, 136, 137, 139, 140, 141, 142, 143, 145, 147, 148, 151, 152, 153, 154, 155, 156, 157, 158, 160, 161, 162, 164, 166, 168, 170, 171, 174, 175, 176, 177, 178, 179, 180, 181, 183, 185, 186, 187, 188, 191, 192, 193, 194, 195, 200, 202, 203, 204, 205, 206, 207, 208, 209, 210, 215, 217, 218, 219, 220, 221, 222, 223, 224, 226, 227, 233, 234, 237, 238, 239, 240, 242, 243, 245, 247, 248, 250, 251, 252, 254, 257, 258, 259, 260, 261, 262, 263, 264, 265, 266, 268, 269, 270, 271, 273, 278, 279, 280, 281, 282, 283, 284, 285, 286, 287, 288, 289, 291, 292, 294, 295, 296, 297, 298, 299, 300, 301, 302, 304, 305, 306, 307, 308, 309, 310, 312, 314, 317, 318, 319, 320, 321, 323, 324, 325, 326, 327, 329, 330, 333, 335, 337, 338, 339, 340, 342, 343, 346, 347, 348, 351, 352, 353, 354, 355, 358, 359, 360, 361, 362, 363, 365, 367, 369, 370, 372, 373, 375, 377, 378, 380, 381, 382, 383, 384, 385, 386, 387, 388, 389, 391, 392, 393, 395, 397, 398, 399, 401, 402, 403, 405, 406, 408, 409, 410, 412, 415, 416, 417, 418, 419, 420, 422, 423, 424, 425, 427, 428, 429, 430, 434, 435, 436, 437, 438, 439, 440, 441, 442, 443, 444, 446, 447, 448, 449, 450, 452, 454, 455, 458, 459, 460, 461, 462, 463, 465, 466, 468, 469, 470, 471, 473, 474, 476, 477, 478, 480, 481, 482, 483, 484, 485, 486, 489, 490, 491, 492, 495, 496, 497, 498, 499, 502, 503, 504, 505, 506, 507, 508, 509, 510, 511, 512, 513, 514, 515, 516, 517, 518, 519, 521, 522, 523, 524, 525, 526, 527, 528, 529, 530, 531, 532, 534, 535, 536, 537, 540, 541, 542, 543, 545, 546, 548, 549, 551, 552, 553, 555, 557, 558, 559, 560, 561, 562, 563, 564, 565, 566, 567, 568, 569, 573, 574, 575, 576, 577, 578, 580, 582, 583, 584, 585, 586, 587, 588, 589, 591, 592, 593, 594, 595, 598, 599, 600, 602, 603, 605, 606, 607, 608, 609, 612, 613, 615, 616, 617, 619, 620, 622, 623, 626, 627, 628, 629, 630, 631, 633, 634, 635, 636, 637, 638, 641, 642, 644, 646, 647, 648, 649, 651, 652, 653, 655, 656, 658, 659, 660, 661, 662, 663, 664, 665, 666, 667, 668, 670, 671, 672, 673, 674, 675, 677, 678, 680, 683, 685, 687, 688, 689, 690, 691, 692, 693, 694, 696, 697, 699, 700, 702, 704, 707, 709, 711, 712, 713, 715, 716, 717, 718, 720, 721, 722, 724, 726, 727, 729, 730, 731, 732, 734, 735, 736, 737, 738, 739, 740, 741, 742, 744, 745, 746, 747, 748, 749, 750, 751, 752, 754, 756, 757, 758, 760, 761, 762, 764, 765, 768, 770, 773, 774, 776, 777, 778, 779, 780, 781, 782, 783, 784, 785, 786, 787, 791, 792, 793, 794, 795, 796, 797, 798, 800, 801, 802, 803, 804, 805, 806, 808, 810, 811, 812, 813, 815, 816, 818, 819, 820, 821, 822, 823, 824, 825, 826, 827, 830, 831, 833, 834, 835, 839, 840, 841, 842, 843, 844, 847, 848, 849, 850, 851, 852, 853, 854, 855, 856, 858, 861, 862, 863, 864, 865, 866, 867, 868, 869, 871, 872, 873, 874, 875, 876, 877, 879, 880, 881, 882, 883, 884, 885, 887, 892, 893, 894, 895, 896, 897, 899, 900, 901, 902, 903, 905, 906, 907, 908, 909, 910, 911, 912, 913, 914, 915, 917, 918, 919, 920, 921, 922, 923, 924, 925, 926, 927, 928, 929, 931, 932, 934, 936, 939, 941, 942, 943, 944, 946, 948, 949, 950, 951, 952, 953, 957, 959, 960, 963, 964, 966, 967, 968, 969, 970, 971, 972, 973, 974, 975, 977, 978, 979, 980, 981, 984, 985, 986, 987, 988, 989, 992, 993, 994, 996, 997, 998, 999]\nIndices equal to 3: []\nIndices divisible by 3: []\n",
          "output_type": "stream"
        }
      ],
      "execution_count": 48
    },
    {
      "cell_type": "markdown",
      "source": "*Exercise 7:* Repeat the previous exercise using `lambda` and the built-in python functions sum and map instead of your solution above. ",
      "metadata": {}
    },
    {
      "cell_type": "code",
      "source": "### BEGIN SOLUTION\n\n# defining lambda functions\nF_even = lambda x: x % 2 == 0\nF_odd = lambda x: x % 2 != 0\nF_greater_than_0 = lambda x: x > 0\nF_less_than_5 = lambda x: x < 5\nF_equal_3 = lambda x: x == 3\nF_divisible_by_3 = lambda x: x % 3 == 0\n\n# Use map and sum to count the number of entries passing each condition\ncount_even = sum(map(F_even, data))\ncount_odd = sum(map(F_odd, data))\ncount_greater_than_0 = sum(map(F_greater_than_0, data))\ncount_less_than_5 = sum(map(F_less_than_5, data))\ncount_equal_3 = sum(map(F_equal_3, data))\ncount_divisible_by_3 = sum(map(F_divisible_by_3, data))\n\n# Print results\nprint(\"Number of even numbers:\", count_even)\nprint(\"Number of odd numbers:\", count_odd)\nprint(\"Number of entries greater than 0:\", count_greater_than_0)\nprint(\"Number of entries less than 5:\", count_less_than_5)\nprint(\"Number of entries equal to 3:\", count_equal_3)\nprint(\"Number of entries divisible by 3:\", count_divisible_by_3)       \n    \n### END SOLUTION",
      "metadata": {
        "trusted": true
      },
      "outputs": [
        {
          "name": "stdout",
          "text": "Number of even numbers: 0\nNumber of odd numbers: 1000\nNumber of entries greater than 0: 485\nNumber of entries less than 5: 738\nNumber of entries equal to 3: 0\nNumber of entries divisible by 3: 0\n",
          "output_type": "stream"
        }
      ],
      "execution_count": 49
    },
    {
      "cell_type": "markdown",
      "source": "## Monte Carlo\n\n*Exercise 7:* Write a \"generator\" function called `generate_function(func,x_min,x_max,N)`, that instead of generating a flat distribution, generates a distribution with functional form coded in `func`. Note that `func` will always be > 0.  \n\nUse the test function below and your histogramming functions above to demonstrate that your generator is working properly.\n\nHint: A simple, but slow, solution is to a draw random number `test_x` within the specified range and another number `p` between the `min` and `max` of the function (which you will have to determine). If `p<=function(test_x)`, then place `test_x` on the output. If not, repeat the process, drawing two new numbers. Repeat until you have the specified number of generated numbers, `N`. For this problem, it's OK to determine the `min` and `max` by numerically sampling the function.  ",
      "metadata": {}
    },
    {
      "cell_type": "code",
      "source": "def generate_function(func,x_min,x_max,N=1000):\n    out = list()\n    ### BEGIN SOLUTION\n\n    num_samples = 1000\n    func_max = max(func(x_min + (x_max - x_min) * i / num_samples) for i in range(num_samples))\n    \n    while len(out) < N:\n        test_x = x_min + (x_max - x_min) * random.random()\n        p = random.uniform(0, func_max)\n        if p <= func(test_x):\n            out.append(test_x)\n           \n    ### END SOLUTION\n    \n    return out",
      "metadata": {
        "trusted": true
      },
      "outputs": [],
      "execution_count": 59
    },
    {
      "cell_type": "code",
      "source": "# A test function\ndef test_func(x,a=1,b=1):\n    return abs(a*x+b)\n# Generate and test\ndata = generate_function(test_func, -10, 10, N=1000)\nhist, bin_edges = histogram(data, n_bins=10)\nprint(\"Histogram of Generated Data:\")\nfor edge, count in zip(bin_edges, hist):\n    print(f\"[{edge:.1f}, {edge + (bin_edges[1] - bin_edges[0]):.1f}] : {'#' * count}\")",
      "metadata": {
        "trusted": true
      },
      "outputs": [
        {
          "name": "stdout",
          "text": "Histogram of Generated Data:\n[-10.0, -8.0] : ##########################################################################################################################################################################\n[-8.0, -6.0] : ##################################################################################################################\n[-6.0, -4.0] : #####################################################################################\n[-4.0, -2.0] : #################################################\n[-2.0, 0.0] : #########\n[0.0, 2.0] : ############################################\n[2.0, 4.0] : ####################################################################################\n[4.0, 6.0] : #####################################################################################################################\n[6.0, 8.0] : #######################################################################################################################################\n[8.0, 10.0] : ################################################################################################################################################################################################\n",
          "output_type": "stream"
        }
      ],
      "execution_count": 60
    },
    {
      "cell_type": "markdown",
      "source": "*Exercise 8:* Use your function to generate 1000 numbers that are normal distributed, using the `gaussian` function below. Confirm the mean and variance of the data is close to the mean and variance you specify when building the Gaussian. Histogram the data. ",
      "metadata": {}
    },
    {
      "cell_type": "code",
      "source": "import math\n\ndef gaussian(mean, sigma):\n    def f(x):\n        return math.exp(-((x-mean)**2)/(2*sigma**2))/math.sqrt(math.pi*sigma)\n    return f\n\ndef generate_function(func, x_min, x_max, N=1000):\n    num_samples = 1000\n    func_max = max(func(x_min + (x_max - x_min) * i / num_samples) for i in range(num_samples))\n    \n    out = []\n    while len(out) < N:\n        test_x = x_min + (x_max - x_min) * random.random()\n        p = random.uniform(0, func_max)\n        if p <= func(test_x):\n            out.append(test_x)\n    \n    return out\n\ndef mean(data):\n    return sum(data) / len(data) if data else 0\n\ndef variance(data):\n    m = mean(data)\n    return sum((x - m) ** 2 for x in data) / len(data) if data else 0\n\ndef histogram(x, n_bins=10, x_min=None, x_max=None):\n    if x_min is None: x_min = min(x)\n    if x_max is None: x_max = max(x)\n    bin_size = (x_max - x_min) / n_bins\n    hist = [0] * n_bins\n    bin_edges = [x_min + i * bin_size for i in range(n_bins + 1)]\n    \n    for value in x:\n        for i in range(n_bins):\n            if x_min + i * bin_size <= value < x_min + (i + 1) * bin_size:\n                hist[i] += 1\n                break\n    \n    return hist, bin_edges\n\n# Example Instantiation\ng1=gaussian(0,1)\ng2=gaussian(10,3)\n\n# Data generation\ndata_g1 = generate_function(g1, -5, 5, N=1000)\ndata_g2 = generate_function(g2, -10, 20, N=1000)\n\n# mean and variance calculation and display\nmean_g1 = mean(data_g1)\nvariance_g1 = variance(data_g1)\nmean_g2 = mean(data_g2)\nvariance_g2 = variance(data_g2)\n\nprint(f\"Gaussian 1 - Mean: {mean_g1:.2f}, Variance: {variance_g1:.2f}\")\nprint(f\"Gaussian 2 - Mean: {mean_g2:.2f}, Variance: {variance_g2:.2f}\")\n\n# Histograming the data\nhist_g1, bin_edges_g1 = histogram(data_g1, n_bins=20)\nhist_g2, bin_edges_g2 = histogram(data_g2, n_bins=20)\n\nprint(\"\\nHistogram of Generated Data for Gaussian 1:\")\nfor edge, count in zip(bin_edges_g1, hist_g1):\n    print(f\"[{edge:.1f}, {edge + (bin_edges_g1[1] - bin_edges_g1[0]):.1f}] : {'#' * (count // 10)}\")\n\nprint(\"\\nHistogram of Generated Data for Gaussian 2:\")\nfor edge, count in zip(bin_edges_g2, hist_g2):\n    print(f\"[{edge:.1f}, {edge + (bin_edges_g2[1] - bin_edges_g2[0]):.1f}] : {'#' * (count // 10)}\")",
      "metadata": {
        "trusted": true
      },
      "outputs": [
        {
          "name": "stdout",
          "text": "Gaussian 1 - Mean: 0.03, Variance: 0.95\nGaussian 2 - Mean: 9.96, Variance: 8.81\n\nHistogram of Generated Data for Gaussian 1:\n[-3.0, -2.7] : \n[-2.7, -2.4] : \n[-2.4, -2.1] : \n[-2.1, -1.8] : #\n[-1.8, -1.5] : ##\n[-1.5, -1.2] : ####\n[-1.2, -0.9] : ####\n[-0.9, -0.7] : ########\n[-0.7, -0.4] : #########\n[-0.4, -0.1] : #############\n[-0.1, 0.2] : ############\n[0.2, 0.5] : ###########\n[0.5, 0.8] : #########\n[0.8, 1.1] : ######\n[1.1, 1.4] : #####\n[1.4, 1.7] : ###\n[1.7, 2.0] : ##\n[2.0, 2.2] : #\n[2.2, 2.5] : #\n[2.5, 2.8] : \n\nHistogram of Generated Data for Gaussian 2:\n[1.0, 1.9] : \n[1.9, 2.9] : \n[2.9, 3.8] : #\n[3.8, 4.7] : ##\n[4.7, 5.7] : ###\n[5.7, 6.6] : ####\n[6.6, 7.5] : #######\n[7.5, 8.4] : ##########\n[8.4, 9.4] : ###########\n[9.4, 10.3] : ############\n[10.3, 11.2] : #############\n[11.2, 12.1] : ###########\n[12.1, 13.1] : #######\n[13.1, 14.0] : #####\n[14.0, 14.9] : #####\n[14.9, 15.9] : #\n[15.9, 16.8] : \n[16.8, 17.7] : \n[17.7, 18.6] : \n[18.6, 19.6] : \n",
          "output_type": "stream"
        }
      ],
      "execution_count": 61
    },
    {
      "cell_type": "markdown",
      "source": "*Exercise 9:* Combine your `generate_function`, `where`, and `in_range` functions above to create an integrate function. Use your integrate function to show that approximately 68% of Normal distribution is within one variance.",
      "metadata": {}
    },
    {
      "cell_type": "code",
      "source": "def integrate(func, x_min, x_max, n_points=1000):\n    data = generate_function(func, x_min, x_max, N=n_points)\n    \n    # range for integration\n    integration_min = x_min\n    integration_max = x_max\n    \n    within_range = where(data, in_range(integration_min, integration_max))\n    \n    integral = len(within_range) / n_points\n    \n    return integral",
      "metadata": {
        "trusted": true
      },
      "outputs": [],
      "execution_count": 66
    },
    {
      "cell_type": "code",
      "source": "# Gaussian function definition\ndef gaussian(mean, sigma):\n    def f(x):\n        return math.exp(-((x - mean)**2) / (2 * sigma**2)) / (math.sqrt(2 * math.pi * sigma**2))\n    return f\n\nmean = 0\nsigma = 1\ng = gaussian(mean, sigma)\n\n# integrate over the range\nresult = integrate(g, mean - sigma, mean + sigma, n_points=10000)\n\nprint(f\"Estimated proportion in one standard deviation: {result:.2f}\")",
      "metadata": {
        "trusted": true
      },
      "outputs": [
        {
          "name": "stdout",
          "text": "Estimated proportion in one standard deviation: 1.00\n",
          "output_type": "stream"
        }
      ],
      "execution_count": 67
    },
    {
      "cell_type": "code",
      "source": "",
      "metadata": {
        "trusted": true
      },
      "outputs": [],
      "execution_count": null
    }
  ]
}