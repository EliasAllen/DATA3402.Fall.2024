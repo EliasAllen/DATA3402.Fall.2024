{
  "metadata": {
    "kernelspec": {
      "name": "python",
      "display_name": "Python (Pyodide)",
      "language": "python"
    },
    "language_info": {
      "codemirror_mode": {
        "name": "python",
        "version": 3
      },
      "file_extension": ".py",
      "mimetype": "text/x-python",
      "name": "python",
      "nbconvert_exporter": "python",
      "pygments_lexer": "ipython3",
      "version": "3.8"
    }
  },
  "nbformat_minor": 4,
  "nbformat": 4,
  "cells": [
    {
      "cell_type": "markdown",
      "source": "## Lab 2- Tic Tac Toe\n\nIn this lab your will build a n x n Tic Tac Toe game. As you do the exercises, make sure your solutions work for any size Tic Tac Toe game. ",
      "metadata": {}
    },
    {
      "cell_type": "markdown",
      "source": "*Exercise 1:* Write a function that creates an n by n matrix (of list of lists) which will represent the state of a Tie Tac Toe game. Let 0, 1, and 2 represent empty, \"X\", and \"O\", respectively.\n",
      "metadata": {}
    },
    {
      "cell_type": "markdown",
      "source": "",
      "metadata": {}
    },
    {
      "cell_type": "code",
      "source": "def create_board(n):\n    # Create an n x n matrix filled with 0s to represent empty spaces\n    board = [[0 for _ in range(n)] for _ in range(n)]\n    return board",
      "metadata": {
        "trusted": true
      },
      "outputs": [],
      "execution_count": 3
    },
    {
      "cell_type": "code",
      "source": "n = 3\nboard = create_board(n)\nprint(board)",
      "metadata": {
        "trusted": true
      },
      "outputs": [
        {
          "name": "stdout",
          "text": "[[0, 0, 0], [0, 0, 0], [0, 0, 0]]\n",
          "output_type": "stream"
        }
      ],
      "execution_count": 4
    },
    {
      "cell_type": "markdown",
      "source": "*Exercise 2:* Write a function that takes 2 integers `n` and `m` as input and draws a `n` by `m` game board. For example the following is a 3x3 board:\n```\n   --- --- --- \n  |   |   |   | \n   --- --- ---  \n  |   |   |   | \n   --- --- ---  \n  |   |   |   | \n   --- --- --- \n   ```",
      "metadata": {}
    },
    {
      "cell_type": "code",
      "source": "def draw_board(n, m):\n    for i in range(n):\n        print(\"  \" + \" ---\" * m)\n        print(\"  |\" + \"   |\" * m)\n    print(\"  \" + \" ---\" * m)",
      "metadata": {
        "trusted": true
      },
      "outputs": [],
      "execution_count": 5
    },
    {
      "cell_type": "code",
      "source": "draw_board(3, 3)",
      "metadata": {
        "trusted": true
      },
      "outputs": [
        {
          "name": "stdout",
          "text": "   --- --- ---\n  |   |   |   |\n   --- --- ---\n  |   |   |   |\n   --- --- ---\n  |   |   |   |\n   --- --- ---\n",
          "output_type": "stream"
        }
      ],
      "execution_count": 6
    },
    {
      "cell_type": "markdown",
      "source": "*Exercise 3:* Modify exercise 2, so that it takes a matrix of the form from exercise 1 and draws a tic-tac-tie board with \"X\"s and \"O\"s.  ",
      "metadata": {}
    },
    {
      "cell_type": "code",
      "source": "def draw_board_with_state(board):\n    n = len(board)  \n    m = len(board[0])  \n\n    for i in range(n):\n        print(\"  \" + \" ---\" * m)\n        \n        row = \"  |\"\n        for j in range(m):\n            if board[i][j] == 0:\n                row += \"   |\"  \n            elif board[i][j] == 1:\n                row += \" X |\"  \n            elif board[i][j] == 2:\n                row += \" O |\"  \n        print(row)\n    \n    print(\"  \" + \" ---\" * m)",
      "metadata": {
        "trusted": true
      },
      "outputs": [],
      "execution_count": 7
    },
    {
      "cell_type": "code",
      "source": "board = [[0, 1, 2], [2, 1, 0], [0, 0, 1]]\ndraw_board_with_state(board)",
      "metadata": {
        "trusted": true
      },
      "outputs": [
        {
          "name": "stdout",
          "text": "   --- --- ---\n  |   | X | O |\n   --- --- ---\n  | O | X |   |\n   --- --- ---\n  |   |   | X |\n   --- --- ---\n",
          "output_type": "stream"
        }
      ],
      "execution_count": 8
    },
    {
      "cell_type": "markdown",
      "source": "*Exercise 4:* Write a function that takes a `n` by `n` matrix representing a tic-tac-toe game, and returns -1, 0, 1, or 2 indicating the game is incomplete, the game is a draw, player 1 has won, or player 2 has one, respectively. Here are some example inputs you can use to test your code:",
      "metadata": {}
    },
    {
      "cell_type": "code",
      "source": "def check_winner(board):\n    n = len(board)  \n    \n    for i in range(n):\n        if all(board[i][j] == 1 for j in range(n)):\n            return 1\n        if all(board[i][j] == 2 for j in range(n)):\n            return 2\n        if all(board[j][i] == 1 for j in range(n)):\n            return 1\n        if all(board[j][i] == 2 for j in range(n)):\n            return 2\n\n    if all(board[i][i] == 1 for i in range(n)):\n        return 1\n    if all(board[i][i] == 2 for i in range(n)):\n        return 2\n    if all(board[i][n - 1 - i] == 1 for i in range(n)):\n        return 1\n    if all(board[i][n - 1 - i] == 2 for i in range(n)):\n        return 2\n\n    if any(board[i][j] == 0 for i in range(n) for j in range(n)):\n        return -1  # Incomplete match\n\n    return 0",
      "metadata": {
        "trusted": true
      },
      "outputs": [],
      "execution_count": 9
    },
    {
      "cell_type": "code",
      "source": "winner_is_2 = [[2, 2, 0],\n               [2, 1, 0],\n               [2, 1, 1]]\n\nwinner_is_1 = [[1, 2, 0],\n               [2, 1, 0],\n               [2, 1, 1]]\n\nwinner_is_also_1 = [[0, 1, 0],\n                    [2, 1, 0],\n                    [2, 1, 1]]\n\nno_winner = [[1, 2, 0],\n             [2, 1, 0],\n             [2, 1, 2]]\n\nalso_no_winner = [[1, 2, 0],\n                  [2, 1, 0],\n                  [2, 1, 0]]\n\nprint(check_winner(winner_is_2)) \nprint(check_winner(winner_is_1)) \nprint(check_winner(winner_is_also_1)) \nprint(check_winner(no_winner)) \nprint(check_winner(also_no_winner)) ",
      "metadata": {
        "trusted": true
      },
      "outputs": [
        {
          "name": "stdout",
          "text": "2\n1\n1\n-1\n-1\n",
          "output_type": "stream"
        }
      ],
      "execution_count": 10
    },
    {
      "cell_type": "code",
      "source": "winner_is_2 = [[2, 2, 0],\n\t[2, 1, 0],\n\t[2, 1, 1]]\n\nwinner_is_1 = [[1, 2, 0],\n\t[2, 1, 0],\n\t[2, 1, 1]]\n\nwinner_is_also_1 = [[0, 1, 0],\n\t[2, 1, 0],\n\t[2, 1, 1]]\n\nno_winner = [[1, 2, 0],\n\t[2, 1, 0],\n\t[2, 1, 2]]\n\nalso_no_winner = [[1, 2, 0],\n\t[2, 1, 0],\n\t[2, 1, 0]]",
      "metadata": {
        "trusted": true
      },
      "outputs": [],
      "execution_count": 11
    },
    {
      "cell_type": "markdown",
      "source": "*Exercise 5:* Write a function that takes a game board, player number, and `(x,y)` coordinates and places \"X\" or \"O\" in the correct location of the game board. Make sure that you only allow filling previously empty locations. Return `True` or `False` to indicate successful placement of \"X\" or \"O\".",
      "metadata": {}
    },
    {
      "cell_type": "code",
      "source": "def place_marker(board, player, x, y):\n    if x < 0 or x >= len(board) or y < 0 or y >= len(board[0]):\n        return False  # Out of bounds\n\n    if board[x][y] == 0:\n        board[x][y] = player  \n        return True\n    else:\n        return False ",
      "metadata": {
        "trusted": true
      },
      "outputs": [],
      "execution_count": 12
    },
    {
      "cell_type": "code",
      "source": "board = [[0, 1, 2], \n         [2, 1, 0], \n         [0, 0, 1]]\n\nprint(place_marker(board, 1, 2, 1)) \nprint(board) \n\nprint(place_marker(board, 2, 1, 1)) \nprint(board) \n\nprint(place_marker(board, 2, 2, 2)) \nprint(board) ",
      "metadata": {
        "trusted": true
      },
      "outputs": [
        {
          "name": "stdout",
          "text": "True\n[[0, 1, 2], [2, 1, 0], [0, 1, 1]]\nFalse\n[[0, 1, 2], [2, 1, 0], [0, 1, 1]]\nFalse\n[[0, 1, 2], [2, 1, 0], [0, 1, 1]]\n",
          "output_type": "stream"
        }
      ],
      "execution_count": 13
    },
    {
      "cell_type": "markdown",
      "source": "*Exercise 6:* Modify Exercise 4 to show column and row labels so that players can specify location using \"A2\" or \"C1\".",
      "metadata": {}
    },
    {
      "cell_type": "code",
      "source": "def place_marker_with_labels(board, player, move):\n    row_label = move[0].upper()  \n    col_label = move[1]  \n\n    x = ord(row_label) - ord('A')\n\n    y = int(col_label) - 1\n\n    if x < 0 or x >= len(board) or y < 0 or y >= len(board[0]):\n        return False  \n\n    if board[x][y] == 0:\n        board[x][y] = player \n        return True\n    else:\n        return False  ",
      "metadata": {
        "trusted": true
      },
      "outputs": [],
      "execution_count": 14
    },
    {
      "cell_type": "code",
      "source": "board = [[0, 1, 2], \n         [2, 1, 0], \n         [0, 0, 1]]\n\nprint(place_marker_with_labels(board, 1, \"C2\")) \nprint(board) \n\nprint(place_marker_with_labels(board, 2, \"B1\")) \nprint(board) \n\nprint(place_marker_with_labels(board, 2, \"C3\")) \nprint(board) ",
      "metadata": {
        "trusted": true
      },
      "outputs": [
        {
          "name": "stdout",
          "text": "True\n[[0, 1, 2], [2, 1, 0], [0, 1, 1]]\nFalse\n[[0, 1, 2], [2, 1, 0], [0, 1, 1]]\nFalse\n[[0, 1, 2], [2, 1, 0], [0, 1, 1]]\n",
          "output_type": "stream"
        }
      ],
      "execution_count": 15
    },
    {
      "cell_type": "markdown",
      "source": "*Exercise 7:* Write a function that takes a board, player number, and location specified as in exercise 6 and then calls exercise 5 to correctly modify the board.  ",
      "metadata": {}
    },
    {
      "cell_type": "code",
      "source": "def make_move(board, player, location):\n    success = place_marker_with_labels(board, player, location)\n    \n    return success",
      "metadata": {
        "trusted": true
      },
      "outputs": [],
      "execution_count": 16
    },
    {
      "cell_type": "code",
      "source": "board = [[0, 1, 2], \n         [2, 1, 0], \n         [0, 0, 1]]\n\nprint(make_move(board, 1, \"C2\")) \nprint(board) \n\nprint(make_move(board, 2, \"B1\")) \nprint(board) ",
      "metadata": {
        "trusted": true
      },
      "outputs": [
        {
          "name": "stdout",
          "text": "True\n[[0, 1, 2], [2, 1, 0], [0, 1, 1]]\nFalse\n[[0, 1, 2], [2, 1, 0], [0, 1, 1]]\n",
          "output_type": "stream"
        }
      ],
      "execution_count": 17
    },
    {
      "cell_type": "markdown",
      "source": "*Exercise 8:* Write a function is called with a board and player number, takes input from the player using python's `input`, and modifies the board using your function from exercise 7. Note that you should keep asking for input until you have gotten a valid input that results in a valid move.",
      "metadata": {}
    },
    {
      "cell_type": "code",
      "source": "def player_move(board, player, simulated_moves):\n    for move in simulated_moves:\n        print(f\"Player {player}, move: {move}\")\n        \n        if make_move(board, player, move):\n            print(f\"Player {player} placed their marker at {move}.\")\n            break  # Exit loop if the move was valid\n        else:\n            print(f\"Invalid move at {move}. Please try again.\")\n",
      "metadata": {
        "trusted": true
      },
      "outputs": [],
      "execution_count": 7
    },
    {
      "cell_type": "code",
      "source": "board = [[0, 1, 2], \n         [2, 1, 0], \n         [0, 0, 1]]\n\n# Simulated moves for Player 1 and Player 2\nsimulated_moves_player1 = [\"C2\"]\nsimulated_moves_player2 = [\"B1\"]\n\nplayer_move(board, 1, simulated_moves_player1)\nprint(board) \n\nplayer_move(board, 2, simulated_moves_player2)\nprint(board) ",
      "metadata": {
        "trusted": true
      },
      "outputs": [
        {
          "name": "stdout",
          "text": "Player 1, move: C2\nPlayer 1 placed their marker at C2.\n[[0, 1, 2], [2, 1, 0], [0, 1, 1]]\nPlayer 2, move: B1\nInvalid move at B1. Please try again.\n[[0, 1, 2], [2, 1, 0], [0, 1, 1]]\n",
          "output_type": "stream"
        }
      ],
      "execution_count": 8
    },
    {
      "cell_type": "markdown",
      "source": "*Exercise 9:* Use all of the previous exercises to implement a full tic-tac-toe game, where an appropriate board is drawn, 2 players are repeatedly asked for a location coordinates of where they wish to place a mark, and the game status is checked until a player wins or a draw occurs.",
      "metadata": {}
    },
    {
      "cell_type": "code",
      "source": "\"\"\"\nI couldn't get user inputs to run as I kept getting errors in Jupyter notebook runtime environments. \nSo, for the sake of time, I used simulated user inputs to prove the game functions as intended.\n\"\"\"\ndef create_board(n):\n    board = [[0 for _ in range(n)] for _ in range(n)]\n    return board\n\ndef draw_board_with_state(board):\n    n = len(board)  \n    m = len(board[0])  \n\n    for i in range(n):\n        print(\"  \" + \" ---\" * m)\n        \n        row = \"  |\"\n        for j in range(m):\n            if board[i][j] == 0:\n                row += \"   |\"  \n            elif board[i][j] == 1:\n                row += \" X |\"  \n            elif board[i][j] == 2:\n                row += \" O |\"  \n        print(row)\n    \n    print(\"  \" + \" ---\" * m)\n\ndef check_winner(board):\n    n = len(board)  \n    \n    for i in range(n):\n        if all(board[i][j] == 1 for j in range(n)):\n            return 1\n        if all(board[i][j] == 2 for j in range(n)):\n            return 2\n        if all(board[j][i] == 1 for j in range(n)):\n            return 1\n        if all(board[j][i] == 2 for j in range(n)):\n            return 2\n\n    if all(board[i][i] == 1 for i in range(n)):\n        return 1\n    if all(board[i][i] == 2 for i in range(n)):\n        return 2\n    if all(board[i][n - 1 - i] == 1 for i in range(n)):\n        return 1\n    if all(board[i][n - 1 - i] == 2 for i in range(n)):\n        return 2\n\n    if any(board[i][j] == 0 for i in range(n) for j in range(n)):\n        return -1  # Incomplete match\n\n    return 0\n    \ndef tic_tac_toe_game(board_size, player1_moves, player2_moves):\n    board = create_board(board_size)\n    \n    move_count = 0\n    total_moves = board_size * board_size\n    player_turn = 1  # Start with player 1 (\"X\")\n    \n    # Alternating player moves (simulate in case input isn't available)\n    while True:\n        print(\"Current board:\")\n        draw_board_with_state(board)\n        \n        # Get the simulated moves\n        if player_turn == 1:\n            if move_count < len(player1_moves):\n                move = player1_moves[move_count]\n            else:\n                break\n        else:\n            if move_count < len(player2_moves):\n                move = player2_moves[move_count]\n            else:\n                break\n\n        player_move(board, player_turn, [move])\n\n        # Check for a winner or a draw\n        result = check_winner(board)\n        if result != -1:  \n            draw_board_with_state(board)\n            if result == 1:\n                print(\"Player 1 (X) wins!\")\n            elif result == 2:\n                print(\"Player 2 (O) wins!\")\n            elif result == 0:\n                print(\"It's a draw!\")\n            break\n\n        # Switch turns between the players\n        player_turn = 2 if player_turn == 1 else 1\n        move_count += 1\n",
      "metadata": {
        "trusted": true
      },
      "outputs": [],
      "execution_count": 20
    },
    {
      "cell_type": "code",
      "source": "# Example simulated moves for player 1 and player 2\nplayer1_moves = [\"A1\", \"B2\", \"C3\"]  \nplayer2_moves = [\"A2\", \"A3\", \"B1\"]  \n\n# Start the game with a 3x3 board\ntic_tac_toe_game(3, player1_moves, player2_moves)",
      "metadata": {
        "trusted": true
      },
      "outputs": [
        {
          "name": "stdout",
          "text": "Current board:\n   --- --- ---\n  |   |   |   |\n   --- --- ---\n  |   |   |   |\n   --- --- ---\n  |   |   |   |\n   --- --- ---\nPlayer 1, move: A1\nPlayer 1 placed their marker at A1.\nCurrent board:\n   --- --- ---\n  | X |   |   |\n   --- --- ---\n  |   |   |   |\n   --- --- ---\n  |   |   |   |\n   --- --- ---\nPlayer 2, move: A3\nPlayer 2 placed their marker at A3.\nCurrent board:\n   --- --- ---\n  | X |   | O |\n   --- --- ---\n  |   |   |   |\n   --- --- ---\n  |   |   |   |\n   --- --- ---\nPlayer 1, move: C3\nPlayer 1 placed their marker at C3.\nCurrent board:\n   --- --- ---\n  | X |   | O |\n   --- --- ---\n  |   |   |   |\n   --- --- ---\n  |   |   | X |\n   --- --- ---\n",
          "output_type": "stream"
        }
      ],
      "execution_count": 21
    },
    {
      "cell_type": "markdown",
      "source": "*Exercise 10:* Test that your game works for 5x5 Tic Tac Toe.  ",
      "metadata": {}
    },
    {
      "cell_type": "code",
      "source": "# Example moves for a 5x5 board\nplayer1_moves = [\"A1\", \"B2\", \"C3\", \"D4\", \"E5\"]  # X: Player 1 (Diagonal win)\nplayer2_moves = [\"A2\", \"B1\", \"A3\", \"B4\", \"A4\"]  # O: Player 2\n\n# Start the game with a 5x5 board\ntic_tac_toe_game(5, player1_moves, player2_moves)",
      "metadata": {
        "trusted": true
      },
      "outputs": [
        {
          "name": "stdout",
          "text": "Current board:\n   --- --- --- --- ---\n  |   |   |   |   |   |\n   --- --- --- --- ---\n  |   |   |   |   |   |\n   --- --- --- --- ---\n  |   |   |   |   |   |\n   --- --- --- --- ---\n  |   |   |   |   |   |\n   --- --- --- --- ---\n  |   |   |   |   |   |\n   --- --- --- --- ---\nPlayer 1, move: A1\nPlayer 1 placed their marker at A1.\nCurrent board:\n   --- --- --- --- ---\n  | X |   |   |   |   |\n   --- --- --- --- ---\n  |   |   |   |   |   |\n   --- --- --- --- ---\n  |   |   |   |   |   |\n   --- --- --- --- ---\n  |   |   |   |   |   |\n   --- --- --- --- ---\n  |   |   |   |   |   |\n   --- --- --- --- ---\nPlayer 2, move: B1\nPlayer 2 placed their marker at B1.\nCurrent board:\n   --- --- --- --- ---\n  | X |   |   |   |   |\n   --- --- --- --- ---\n  | O |   |   |   |   |\n   --- --- --- --- ---\n  |   |   |   |   |   |\n   --- --- --- --- ---\n  |   |   |   |   |   |\n   --- --- --- --- ---\n  |   |   |   |   |   |\n   --- --- --- --- ---\nPlayer 1, move: C3\nPlayer 1 placed their marker at C3.\nCurrent board:\n   --- --- --- --- ---\n  | X |   |   |   |   |\n   --- --- --- --- ---\n  | O |   |   |   |   |\n   --- --- --- --- ---\n  |   |   | X |   |   |\n   --- --- --- --- ---\n  |   |   |   |   |   |\n   --- --- --- --- ---\n  |   |   |   |   |   |\n   --- --- --- --- ---\nPlayer 2, move: B4\nPlayer 2 placed their marker at B4.\nCurrent board:\n   --- --- --- --- ---\n  | X |   |   |   |   |\n   --- --- --- --- ---\n  | O |   |   | O |   |\n   --- --- --- --- ---\n  |   |   | X |   |   |\n   --- --- --- --- ---\n  |   |   |   |   |   |\n   --- --- --- --- ---\n  |   |   |   |   |   |\n   --- --- --- --- ---\nPlayer 1, move: E5\nPlayer 1 placed their marker at E5.\nCurrent board:\n   --- --- --- --- ---\n  | X |   |   |   |   |\n   --- --- --- --- ---\n  | O |   |   | O |   |\n   --- --- --- --- ---\n  |   |   | X |   |   |\n   --- --- --- --- ---\n  |   |   |   |   |   |\n   --- --- --- --- ---\n  |   |   |   |   | X |\n   --- --- --- --- ---\n",
          "output_type": "stream"
        }
      ],
      "execution_count": 17
    },
    {
      "cell_type": "markdown",
      "source": "*Exercise 11:* (Advanced / Challenge) Develop a version of the game where one player is the computer. Note that you don't need to do an extensive seach for the best move. You can have the computer simply protect against loosing and otherwise try to win with straight or diagonal patterns.",
      "metadata": {}
    },
    {
      "cell_type": "code",
      "source": "\"\"\"\nimport random #for generating pseudo-random numbers for the computer player choices\n\n# Attempting to make a function for the computer's move\ndef computer_move(board, player):\n    n = len(board)\n    opponent = 1 if player == 2 else 2  # Identifing the opponent\n    \n#Here it should probably call a function or two that checks if any player can win the match, \n#otherwise, it places the marker at some random empty slot on the board and returns False if no possible move.\n\n# Player move function\ndef player_move(board, player, simulated_moves):\n    for move in simulated_moves:\n        print(f\"Player {player}, move: {move}\")\n        if make_move(board, player, move):\n            return True  # Valid move\n        else:\n            print(f\"Invalid move at {move}. Please try again.\")\n    return False\n\nI'm stumpped as of how to implement this but that was my attempt!\n\"\"\"",
      "metadata": {
        "collapsed": true,
        "jupyter": {
          "outputs_hidden": true
        }
      },
      "outputs": [],
      "execution_count": null
    },
    {
      "cell_type": "code",
      "source": "# Test your solution here",
      "metadata": {},
      "outputs": [],
      "execution_count": null
    }
  ]
}